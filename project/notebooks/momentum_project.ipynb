{
 "cells": [
  {
   "cell_type": "markdown",
   "id": "5ef80ee3",
   "metadata": {},
   "source": [
    "# Momentum Strategy Project"
   ]
  },
  {
   "cell_type": "code",
   "execution_count": 7,
   "id": "9af5b780-adad-4d27-b40a-48d2f5d18891",
   "metadata": {},
   "outputs": [
    {
     "name": "stdout",
     "output_type": "stream",
     "text": [
      "Project root: /Users/mengmeng/bootcamp_Shuchen_Meng/project\n",
      "Using backtest from: /Users/mengmeng/bootcamp_Shuchen_Meng/project/src/backtest.py\n"
     ]
    }
   ],
   "source": [
    "# ==== Project-safe imports: avoid 3rd-party name collisions, use package style ====\n",
    "import sys, os\n",
    "from pathlib import Path\n",
    "\n",
    "root = Path.cwd()\n",
    "while root != root.parent and not (root / \"src\" / \"__init__.py\").exists():\n",
    "    root = root.parent\n",
    "if not (root / \"src\" / \"__init__.py\").exists():\n",
    "    raise RuntimeError(\"Cannot find project root containing src/__init__.py\")\n",
    "\n",
    "sys.path.insert(0, str(root))\n",
    "\n",
    "for m in [\"src\", \"src.cleaning\", \"src.features\", \"src.portfolio\", \"src.backtest\", \"src.utils\",\n",
    "          \"backtest\"]:  # 顶层第三方包名\n",
    "    sys.modules.pop(m, None)\n",
    "\n",
    "from src.cleaning import basic_describe, forward_fill, to_monthly, pct_change_monthly, winsorize_returns\n",
    "from src.features  import momentum_12_1, binary_map\n",
    "from src.portfolio import ledoit_wolf_cov, min_var_weights\n",
    "from src.backtest  import walkforward_minvar, fixedsplit_minvar, build_benchmarks, summarize\n",
    "from src.utils     import to_nav\n",
    "\n",
    "import inspect, src.backtest as bt\n",
    "print(\"Project root:\", root)\n",
    "print(\"Using backtest from:\", inspect.getsourcefile(bt))  # 应指向 .../your_project/src/backtest.py\n"
   ]
  },
  {
   "cell_type": "code",
   "execution_count": 8,
   "id": "8c5cb16a",
   "metadata": {},
   "outputs": [
    {
     "name": "stdout",
     "output_type": "stream",
     "text": [
      "Paths ready.\n"
     ]
    }
   ],
   "source": [
    "import warnings, numpy as np, pandas as pd, matplotlib.pyplot as plt, yfinance as yf\n",
    "warnings.filterwarnings('ignore')\n",
    "BASE=os.path.abspath(os.path.join(os.getcwd(),'..'))\n",
    "DATA_RAW=os.path.join(BASE,'data','raw'); DATA_PROC=os.path.join(BASE,'data','processed'); REPORTS=os.path.join(BASE,'reports'); SRC=os.path.join(BASE,'src')\n",
    "print('Paths ready.')\n"
   ]
  },
  {
   "cell_type": "code",
   "execution_count": 9,
   "id": "0ca6153a",
   "metadata": {},
   "outputs": [],
   "source": [
    "TICKERS=['SPY','QQQ','EEM']; BOND='AGG'; START='2005-01-01'; END=None\n",
    "COST_BPS_PER_SIDE=15.0; WINDOW_COV_MONTHS=60; WMAX=0.25; SPLIT_RATIO=0.8\n"
   ]
  },
  {
   "cell_type": "markdown",
   "id": "93457867",
   "metadata": {},
   "source": [
    "### Download data (Adj Close)"
   ]
  },
  {
   "cell_type": "code",
   "execution_count": 10,
   "id": "e5b9e4b1-7ef6-4ea8-b8da-b232f47967ec",
   "metadata": {},
   "outputs": [],
   "source": [
    "def download_adj_close(tickers, start, end=None):\n",
    "    tickers = list(dict.fromkeys(tickers))  # 去重且保持顺序\n",
    "    # 尝试多票一次下\n",
    "    df = yf.download(\n",
    "        tickers, start=start, end=end, interval=\"1d\",\n",
    "        auto_adjust=True, actions=False, group_by=\"ticker\",\n",
    "        threads=False, progress=False\n",
    "    )\n",
    "    \n",
    "    result = pd.DataFrame()\n",
    "    if isinstance(df.columns, pd.MultiIndex):\n",
    "        # 结构：顶层是 ticker，第二层是字段（Close/Volume...）\n",
    "        cols = {}\n",
    "        for t in tickers:\n",
    "            sub = df.get(t)\n",
    "            if sub is None or sub.empty:\n",
    "                continue\n",
    "            if \"Close\" in sub.columns:\n",
    "                cols[t] = sub[\"Close\"]\n",
    "            elif \"close\" in sub.columns:\n",
    "                cols[t] = sub[\"close\"]\n",
    "        if cols:\n",
    "            result = pd.DataFrame(cols)\n",
    "    else:\n",
    "        # 只有单票时是普通列\n",
    "        if \"Close\" in df.columns:\n",
    "            result = df[[\"Close\"]].rename(columns={\"Close\": tickers[0]})\n",
    "        elif \"close\" in df.columns:\n",
    "            result = df[[\"close\"]].rename(columns={\"close\": tickers[0]})\n",
    "\n",
    "    # 兜底：逐票下载再拼接（防止一次性下载拿不到）\n",
    "    missing = [t for t in tickers if t not in result.columns]\n",
    "    if result.empty or missing:\n",
    "        frames = []\n",
    "        for t in tickers:\n",
    "            x = yf.download(\n",
    "                t, start=start, end=end, interval=\"1d\",\n",
    "                auto_adjust=True, actions=False, progress=False, threads=False\n",
    "            )\n",
    "            if not x.empty:\n",
    "                col = \"Close\" if \"Close\" in x.columns else (\"close\" if \"close\" in x.columns else None)\n",
    "                if col:\n",
    "                    frames.append(x[col].rename(t))\n",
    "        if frames:\n",
    "            result = pd.concat(frames, axis=1)\n",
    "    return result.sort_index().dropna(how=\"all\")"
   ]
  },
  {
   "cell_type": "code",
   "execution_count": 11,
   "id": "c2b14be3",
   "metadata": {},
   "outputs": [
    {
     "name": "stdout",
     "output_type": "stream",
     "text": [
      "Saved: /Users/mengmeng/bootcamp_Shuchen_Meng/project/data/raw/adj_close_daily.csv | shape: (5195, 4)\n"
     ]
    },
    {
     "data": {
      "text/html": [
       "<div>\n",
       "<style scoped>\n",
       "    .dataframe tbody tr th:only-of-type {\n",
       "        vertical-align: middle;\n",
       "    }\n",
       "\n",
       "    .dataframe tbody tr th {\n",
       "        vertical-align: top;\n",
       "    }\n",
       "\n",
       "    .dataframe thead th {\n",
       "        text-align: right;\n",
       "    }\n",
       "</style>\n",
       "<table border=\"1\" class=\"dataframe\">\n",
       "  <thead>\n",
       "    <tr style=\"text-align: right;\">\n",
       "      <th></th>\n",
       "      <th>SPY</th>\n",
       "      <th>QQQ</th>\n",
       "      <th>EEM</th>\n",
       "      <th>AGG</th>\n",
       "    </tr>\n",
       "    <tr>\n",
       "      <th>Date</th>\n",
       "      <th></th>\n",
       "      <th></th>\n",
       "      <th></th>\n",
       "      <th></th>\n",
       "    </tr>\n",
       "  </thead>\n",
       "  <tbody>\n",
       "    <tr>\n",
       "      <th>2025-08-20</th>\n",
       "      <td>638.109985</td>\n",
       "      <td>565.900024</td>\n",
       "      <td>49.750000</td>\n",
       "      <td>99.080002</td>\n",
       "    </tr>\n",
       "    <tr>\n",
       "      <th>2025-08-21</th>\n",
       "      <td>635.549988</td>\n",
       "      <td>563.280029</td>\n",
       "      <td>49.639999</td>\n",
       "      <td>98.849998</td>\n",
       "    </tr>\n",
       "    <tr>\n",
       "      <th>2025-08-22</th>\n",
       "      <td>645.309998</td>\n",
       "      <td>571.969971</td>\n",
       "      <td>50.630001</td>\n",
       "      <td>99.400002</td>\n",
       "    </tr>\n",
       "    <tr>\n",
       "      <th>2025-08-25</th>\n",
       "      <td>642.469971</td>\n",
       "      <td>570.320007</td>\n",
       "      <td>50.340000</td>\n",
       "      <td>99.250000</td>\n",
       "    </tr>\n",
       "    <tr>\n",
       "      <th>2025-08-26</th>\n",
       "      <td>645.159973</td>\n",
       "      <td>572.609985</td>\n",
       "      <td>50.209999</td>\n",
       "      <td>99.370003</td>\n",
       "    </tr>\n",
       "  </tbody>\n",
       "</table>\n",
       "</div>"
      ],
      "text/plain": [
       "                   SPY         QQQ        EEM        AGG\n",
       "Date                                                    \n",
       "2025-08-20  638.109985  565.900024  49.750000  99.080002\n",
       "2025-08-21  635.549988  563.280029  49.639999  98.849998\n",
       "2025-08-22  645.309998  571.969971  50.630001  99.400002\n",
       "2025-08-25  642.469971  570.320007  50.340000  99.250000\n",
       "2025-08-26  645.159973  572.609985  50.209999  99.370003"
      ]
     },
     "execution_count": 11,
     "metadata": {},
     "output_type": "execute_result"
    }
   ],
   "source": [
    "tickers_all = list(dict.fromkeys(TICKERS + [BOND])) \n",
    "prices = download_adj_close(tickers_all, START, END)\n",
    "\n",
    "# dowload\n",
    "raw_path = os.path.join(DATA_RAW, \"adj_close_daily.csv\")\n",
    "prices.to_csv(raw_path, index=True)\n",
    "print(\"Saved:\", raw_path, \"| shape:\", prices.shape)\n",
    "prices.tail()"
   ]
  },
  {
   "cell_type": "markdown",
   "id": "0ce1dc95",
   "metadata": {},
   "source": [
    "### Clean → monthly returns & features"
   ]
  },
  {
   "cell_type": "code",
   "execution_count": 12,
   "id": "63f2a124-61eb-4909-94d2-5d89ce83d45a",
   "metadata": {},
   "outputs": [
    {
     "name": "stdout",
     "output_type": "stream",
     "text": [
      "forward_fill from: /Users/mengmeng/bootcamp_Shuchen_Meng/project/src/cleaning.py\n"
     ]
    }
   ],
   "source": [
    "import inspect\n",
    "import src.cleaning as cleaning  # 强制用我们项目里的\n",
    "print(\"forward_fill from:\", inspect.getsourcefile(cleaning.forward_fill))"
   ]
  },
  {
   "cell_type": "code",
   "execution_count": 14,
   "id": "002d1059",
   "metadata": {},
   "outputs": [
    {
     "data": {
      "text/html": [
       "<div>\n",
       "<style scoped>\n",
       "    .dataframe tbody tr th:only-of-type {\n",
       "        vertical-align: middle;\n",
       "    }\n",
       "\n",
       "    .dataframe tbody tr th {\n",
       "        vertical-align: top;\n",
       "    }\n",
       "\n",
       "    .dataframe thead th {\n",
       "        text-align: right;\n",
       "    }\n",
       "</style>\n",
       "<table border=\"1\" class=\"dataframe\">\n",
       "  <thead>\n",
       "    <tr style=\"text-align: right;\">\n",
       "      <th></th>\n",
       "      <th>SPY</th>\n",
       "      <th>QQQ</th>\n",
       "      <th>EEM</th>\n",
       "    </tr>\n",
       "    <tr>\n",
       "      <th>Date</th>\n",
       "      <th></th>\n",
       "      <th></th>\n",
       "      <th></th>\n",
       "    </tr>\n",
       "  </thead>\n",
       "  <tbody>\n",
       "    <tr>\n",
       "      <th>2025-04-30</th>\n",
       "      <td>1</td>\n",
       "      <td>1</td>\n",
       "      <td>1</td>\n",
       "    </tr>\n",
       "    <tr>\n",
       "      <th>2025-05-31</th>\n",
       "      <td>1</td>\n",
       "      <td>1</td>\n",
       "      <td>1</td>\n",
       "    </tr>\n",
       "    <tr>\n",
       "      <th>2025-06-30</th>\n",
       "      <td>1</td>\n",
       "      <td>1</td>\n",
       "      <td>1</td>\n",
       "    </tr>\n",
       "    <tr>\n",
       "      <th>2025-07-31</th>\n",
       "      <td>1</td>\n",
       "      <td>1</td>\n",
       "      <td>1</td>\n",
       "    </tr>\n",
       "    <tr>\n",
       "      <th>2025-08-31</th>\n",
       "      <td>1</td>\n",
       "      <td>1</td>\n",
       "      <td>1</td>\n",
       "    </tr>\n",
       "  </tbody>\n",
       "</table>\n",
       "</div>"
      ],
      "text/plain": [
       "            SPY  QQQ  EEM\n",
       "Date                     \n",
       "2025-04-30    1    1    1\n",
       "2025-05-31    1    1    1\n",
       "2025-06-30    1    1    1\n",
       "2025-07-31    1    1    1\n",
       "2025-08-31    1    1    1"
      ]
     },
     "execution_count": 14,
     "metadata": {},
     "output_type": "execute_result"
    }
   ],
   "source": [
    "prices_=forward_fill(prices)\n",
    "prices_m=to_monthly(prices_)\n",
    "rets_m=pct_change_monthly(prices_m)\n",
    "rets_m_w=winsorize_returns(rets_m,0.01,0.99)\n",
    "mom=momentum_12_1(prices_m[TICKERS])\n",
    "sig=binary_map(mom)\n",
    "sig.tail()"
   ]
  },
  {
   "cell_type": "code",
   "execution_count": 15,
   "id": "9172ef11-1433-4537-9bbd-2c75b35a369d",
   "metadata": {},
   "outputs": [
    {
     "name": "stdout",
     "output_type": "stream",
     "text": [
      "Monthly index: 2005-01-31 → 2025-08-31 | n= 248\n"
     ]
    },
    {
     "data": {
      "text/html": [
       "<div>\n",
       "<style scoped>\n",
       "    .dataframe tbody tr th:only-of-type {\n",
       "        vertical-align: middle;\n",
       "    }\n",
       "\n",
       "    .dataframe tbody tr th {\n",
       "        vertical-align: top;\n",
       "    }\n",
       "\n",
       "    .dataframe thead th {\n",
       "        text-align: right;\n",
       "    }\n",
       "</style>\n",
       "<table border=\"1\" class=\"dataframe\">\n",
       "  <thead>\n",
       "    <tr style=\"text-align: right;\">\n",
       "      <th></th>\n",
       "      <th>SPY</th>\n",
       "      <th>QQQ</th>\n",
       "      <th>EEM</th>\n",
       "    </tr>\n",
       "    <tr>\n",
       "      <th>Date</th>\n",
       "      <th></th>\n",
       "      <th></th>\n",
       "      <th></th>\n",
       "    </tr>\n",
       "  </thead>\n",
       "  <tbody>\n",
       "    <tr>\n",
       "      <th>2025-04-30</th>\n",
       "      <td>552.905457</td>\n",
       "      <td>474.936615</td>\n",
       "      <td>43.340141</td>\n",
       "    </tr>\n",
       "    <tr>\n",
       "      <th>2025-05-31</th>\n",
       "      <td>587.652771</td>\n",
       "      <td>518.527649</td>\n",
       "      <td>45.083256</td>\n",
       "    </tr>\n",
       "    <tr>\n",
       "      <th>2025-06-30</th>\n",
       "      <td>617.849976</td>\n",
       "      <td>551.640015</td>\n",
       "      <td>48.240002</td>\n",
       "    </tr>\n",
       "    <tr>\n",
       "      <th>2025-07-31</th>\n",
       "      <td>632.080017</td>\n",
       "      <td>565.010010</td>\n",
       "      <td>48.560001</td>\n",
       "    </tr>\n",
       "    <tr>\n",
       "      <th>2025-08-31</th>\n",
       "      <td>645.159973</td>\n",
       "      <td>572.609985</td>\n",
       "      <td>50.209999</td>\n",
       "    </tr>\n",
       "  </tbody>\n",
       "</table>\n",
       "</div>"
      ],
      "text/plain": [
       "                   SPY         QQQ        EEM\n",
       "Date                                         \n",
       "2025-04-30  552.905457  474.936615  43.340141\n",
       "2025-05-31  587.652771  518.527649  45.083256\n",
       "2025-06-30  617.849976  551.640015  48.240002\n",
       "2025-07-31  632.080017  565.010010  48.560001\n",
       "2025-08-31  645.159973  572.609985  50.209999"
      ]
     },
     "metadata": {},
     "output_type": "display_data"
    }
   ],
   "source": [
    "# --- Sanity check: 确认月频价格是合理的 ---\n",
    "print(\"Monthly index:\", prices_m.index.min().date(), \"→\", prices_m.index.max().date(), \"| n=\", len(prices_m))\n",
    "display(prices_m[TICKERS].tail())"
   ]
  },
  {
   "cell_type": "code",
   "execution_count": 16,
   "id": "954721c7-c46d-4ce3-80df-81864d2fbf2c",
   "metadata": {},
   "outputs": [
    {
     "data": {
      "text/plain": [
       "Date\n",
       "2024-11-30    3\n",
       "2024-12-31    3\n",
       "2025-01-31    3\n",
       "2025-02-28    3\n",
       "2025-03-31    3\n",
       "2025-04-30    3\n",
       "2025-05-31    3\n",
       "2025-06-30    3\n",
       "2025-07-31    3\n",
       "2025-08-31    3\n",
       "Freq: ME, dtype: int64"
      ]
     },
     "metadata": {},
     "output_type": "display_data"
    },
    {
     "name": "stdout",
     "output_type": "stream",
     "text": [
      "Any infeasible month?  False\n"
     ]
    },
    {
     "data": {
      "text/html": [
       "<div>\n",
       "<style scoped>\n",
       "    .dataframe tbody tr th:only-of-type {\n",
       "        vertical-align: middle;\n",
       "    }\n",
       "\n",
       "    .dataframe tbody tr th {\n",
       "        vertical-align: top;\n",
       "    }\n",
       "\n",
       "    .dataframe thead th {\n",
       "        text-align: right;\n",
       "    }\n",
       "</style>\n",
       "<table border=\"1\" class=\"dataframe\">\n",
       "  <thead>\n",
       "    <tr style=\"text-align: right;\">\n",
       "      <th></th>\n",
       "      <th>SPY</th>\n",
       "      <th>QQQ</th>\n",
       "      <th>EEM</th>\n",
       "    </tr>\n",
       "    <tr>\n",
       "      <th>Date</th>\n",
       "      <th></th>\n",
       "      <th></th>\n",
       "      <th></th>\n",
       "    </tr>\n",
       "  </thead>\n",
       "  <tbody>\n",
       "    <tr>\n",
       "      <th>2025-04-30</th>\n",
       "      <td>0.146955</td>\n",
       "      <td>0.149782</td>\n",
       "      <td>0.076993</td>\n",
       "    </tr>\n",
       "    <tr>\n",
       "      <th>2025-05-31</th>\n",
       "      <td>0.128550</td>\n",
       "      <td>0.111157</td>\n",
       "      <td>0.091598</td>\n",
       "    </tr>\n",
       "    <tr>\n",
       "      <th>2025-06-30</th>\n",
       "      <td>0.064903</td>\n",
       "      <td>0.061384</td>\n",
       "      <td>0.072171</td>\n",
       "    </tr>\n",
       "    <tr>\n",
       "      <th>2025-07-31</th>\n",
       "      <td>0.093257</td>\n",
       "      <td>0.088381</td>\n",
       "      <td>0.086839</td>\n",
       "    </tr>\n",
       "    <tr>\n",
       "      <th>2025-08-31</th>\n",
       "      <td>0.135683</td>\n",
       "      <td>0.177645</td>\n",
       "      <td>0.153192</td>\n",
       "    </tr>\n",
       "  </tbody>\n",
       "</table>\n",
       "</div>"
      ],
      "text/plain": [
       "                 SPY       QQQ       EEM\n",
       "Date                                    \n",
       "2025-04-30  0.146955  0.149782  0.076993\n",
       "2025-05-31  0.128550  0.111157  0.091598\n",
       "2025-06-30  0.064903  0.061384  0.072171\n",
       "2025-07-31  0.093257  0.088381  0.086839\n",
       "2025-08-31  0.135683  0.177645  0.153192"
      ]
     },
     "metadata": {},
     "output_type": "display_data"
    },
    {
     "data": {
      "text/html": [
       "<div>\n",
       "<style scoped>\n",
       "    .dataframe tbody tr th:only-of-type {\n",
       "        vertical-align: middle;\n",
       "    }\n",
       "\n",
       "    .dataframe tbody tr th {\n",
       "        vertical-align: top;\n",
       "    }\n",
       "\n",
       "    .dataframe thead th {\n",
       "        text-align: right;\n",
       "    }\n",
       "</style>\n",
       "<table border=\"1\" class=\"dataframe\">\n",
       "  <thead>\n",
       "    <tr style=\"text-align: right;\">\n",
       "      <th></th>\n",
       "      <th>SPY</th>\n",
       "      <th>QQQ</th>\n",
       "      <th>EEM</th>\n",
       "    </tr>\n",
       "    <tr>\n",
       "      <th>Date</th>\n",
       "      <th></th>\n",
       "      <th></th>\n",
       "      <th></th>\n",
       "    </tr>\n",
       "  </thead>\n",
       "  <tbody>\n",
       "    <tr>\n",
       "      <th>2025-04-30</th>\n",
       "      <td>1</td>\n",
       "      <td>1</td>\n",
       "      <td>1</td>\n",
       "    </tr>\n",
       "    <tr>\n",
       "      <th>2025-05-31</th>\n",
       "      <td>1</td>\n",
       "      <td>1</td>\n",
       "      <td>1</td>\n",
       "    </tr>\n",
       "    <tr>\n",
       "      <th>2025-06-30</th>\n",
       "      <td>1</td>\n",
       "      <td>1</td>\n",
       "      <td>1</td>\n",
       "    </tr>\n",
       "    <tr>\n",
       "      <th>2025-07-31</th>\n",
       "      <td>1</td>\n",
       "      <td>1</td>\n",
       "      <td>1</td>\n",
       "    </tr>\n",
       "    <tr>\n",
       "      <th>2025-08-31</th>\n",
       "      <td>1</td>\n",
       "      <td>1</td>\n",
       "      <td>1</td>\n",
       "    </tr>\n",
       "  </tbody>\n",
       "</table>\n",
       "</div>"
      ],
      "text/plain": [
       "            SPY  QQQ  EEM\n",
       "Date                     \n",
       "2025-04-30    1    1    1\n",
       "2025-05-31    1    1    1\n",
       "2025-06-30    1    1    1\n",
       "2025-07-31    1    1    1\n",
       "2025-08-31    1    1    1"
      ]
     },
     "metadata": {},
     "output_type": "display_data"
    }
   ],
   "source": [
    "\n",
    "sel_cnt = sig.sum(axis=1)\n",
    "display(sel_cnt.tail(10))\n",
    "\n",
    "WMAX = max(0.25, 1/len(TICKERS))\n",
    "print(\"Any infeasible month? \", ((sel_cnt * WMAX) < 1).tail(10).any())\n",
    "\n",
    "display(mom.tail())\n",
    "display(sig.tail())"
   ]
  },
  {
   "cell_type": "markdown",
   "id": "84975361",
   "metadata": {},
   "source": [
    "### Backtests: walk-forward and 80/20 control"
   ]
  },
  {
   "cell_type": "code",
   "execution_count": 17,
   "id": "6e54db05",
   "metadata": {},
   "outputs": [],
   "source": [
    "wf=walkforward_minvar(prices_m[TICKERS], sig, window_cov_months=WINDOW_COV_MONTHS, wmax=WMAX, cost_bps_per_side=COST_BPS_PER_SIDE)\n",
    "fx=fixedsplit_minvar(prices_m[TICKERS], sig, split_ratio=SPLIT_RATIO, window_cov_months=WINDOW_COV_MONTHS, wmax=WMAX, cost_bps_per_side=COST_BPS_PER_SIDE)\n",
    "wf_nav=to_nav(wf['returns']); fx_nav=to_nav(fx['returns'])\n",
    "bench=build_benchmarks(prices_m[TICKERS], prices_m[BOND]); ew_nav=to_nav(bench['EW']); sf_nav=to_nav(bench['60/40']); spy_nav=to_nav(bench['SPY'])\n"
   ]
  },
  {
   "cell_type": "markdown",
   "id": "4825c60e",
   "metadata": {},
   "source": [
    "### Summary tables & plots"
   ]
  },
  {
   "cell_type": "code",
   "execution_count": 20,
   "id": "366caf4e-a744-4370-b590-cb548e49359e",
   "metadata": {},
   "outputs": [
    {
     "data": {
      "text/html": [
       "<div>\n",
       "<style scoped>\n",
       "    .dataframe tbody tr th:only-of-type {\n",
       "        vertical-align: middle;\n",
       "    }\n",
       "\n",
       "    .dataframe tbody tr th {\n",
       "        vertical-align: top;\n",
       "    }\n",
       "\n",
       "    .dataframe thead th {\n",
       "        text-align: right;\n",
       "    }\n",
       "</style>\n",
       "<table border=\"1\" class=\"dataframe\">\n",
       "  <thead>\n",
       "    <tr style=\"text-align: right;\">\n",
       "      <th></th>\n",
       "      <th>CAGR</th>\n",
       "      <th>Sharpe (ann)</th>\n",
       "      <th>Max Drawdown</th>\n",
       "    </tr>\n",
       "    <tr>\n",
       "      <th>Strategy</th>\n",
       "      <th></th>\n",
       "      <th></th>\n",
       "      <th></th>\n",
       "    </tr>\n",
       "  </thead>\n",
       "  <tbody>\n",
       "    <tr>\n",
       "      <th>Strategy (WalkFwd)</th>\n",
       "      <td>0.0850</td>\n",
       "      <td>0.5673</td>\n",
       "      <td>-0.2977</td>\n",
       "    </tr>\n",
       "    <tr>\n",
       "      <th>Strategy (80/20)</th>\n",
       "      <td>0.0850</td>\n",
       "      <td>0.5673</td>\n",
       "      <td>-0.2977</td>\n",
       "    </tr>\n",
       "    <tr>\n",
       "      <th>Equal-Weight</th>\n",
       "      <td>0.0875</td>\n",
       "      <td>0.6003</td>\n",
       "      <td>-0.2796</td>\n",
       "    </tr>\n",
       "    <tr>\n",
       "      <th>60/40</th>\n",
       "      <td>0.0657</td>\n",
       "      <td>0.5969</td>\n",
       "      <td>-0.2005</td>\n",
       "    </tr>\n",
       "    <tr>\n",
       "      <th>SPY</th>\n",
       "      <td>0.1145</td>\n",
       "      <td>0.7442</td>\n",
       "      <td>-0.2393</td>\n",
       "    </tr>\n",
       "  </tbody>\n",
       "</table>\n",
       "</div>"
      ],
      "text/plain": [
       "                      CAGR  Sharpe (ann)  Max Drawdown\n",
       "Strategy                                              \n",
       "Strategy (WalkFwd)  0.0850        0.5673       -0.2977\n",
       "Strategy (80/20)    0.0850        0.5673       -0.2977\n",
       "Equal-Weight        0.0875        0.6003       -0.2796\n",
       "60/40               0.0657        0.5969       -0.2005\n",
       "SPY                 0.1145        0.7442       -0.2393"
      ]
     },
     "metadata": {},
     "output_type": "display_data"
    }
   ],
   "source": [
    "panel = pd.concat({\n",
    "    \"Strategy (WalkFwd)\": wf_nav,\n",
    "    \"Strategy (80/20)\":   fx_nav,\n",
    "    \"Equal-Weight\":       ew_nav,\n",
    "    \"60/40\":              sf_nav,\n",
    "    \"SPY\":                spy_nav,\n",
    "}, axis=1)\n",
    "\n",
    "# strict alignment: drop rows where any series is NaN\n",
    "panel = panel.dropna(how=\"any\")\n",
    "navs_clean = {c: panel[c] for c in panel.columns}\n",
    "\n",
    "perf = summarize(navs_clean).round(4)\n",
    "display(perf)"
   ]
  },
  {
   "cell_type": "code",
   "execution_count": 21,
   "id": "3d0e7a03",
   "metadata": {},
   "outputs": [
    {
     "data": {
      "image/png": "[encoded data removed]",
      "text/plain": [
       "<Figure size 1000x500 with 1 Axes>"
      ]
     },
     "metadata": {},
     "output_type": "display_data"
    }
   ],
   "source": [
    "import matplotlib.pyplot as plt\n",
    "common=wf_nav.index.intersection(ew_nav.index).intersection(sf_nav.index).intersection(spy_nav.index)\n",
    "navs={'Strategy (WalkFwd)': wf_nav.reindex(common).ffill(),\n",
    "      'Strategy (80/20)': fx_nav.reindex(common).ffill(),\n",
    "      'Equal-Weight': ew_nav.reindex(common).ffill(),\n",
    "      '60/40': sf_nav.reindex(common).ffill(),\n",
    "      'SPY': spy_nav.reindex(common).ffill()}\n",
    "plt.figure(figsize=(10,5))\n",
    "for k,v in navs.items(): plt.plot(v.index, v.values, label=k)\n",
    "plt.title('NAV (Monthly, $1 start)'); plt.legend(); plt.grid(True); plt.savefig(os.path.join(REPORTS,'nav.png'),dpi=150); plt.show()\n"
   ]
  },
  {
   "cell_type": "markdown",
   "id": "0d98a25d-c0fd-4e4e-9237-31d7cdd1d3fb",
   "metadata": {},
   "source": [
    "# Momentum Strategy — Results Report (Plain Text)\n",
    "\n",
    "- Universe: SPY, QQQ, EEM (monthly, adjusted prices)\n",
    "- Signal: 12–1 momentum (skip last month), binarized (1 if momentum > 0)\n",
    "- Weights: Long-only, sum to 1, single-ETF cap ≤ 25% (feasibility fallback recommended)\n",
    "- Risk model: Ledoit–Wolf covariance with 60-month lookback\n",
    "- Rebalance: Monthly\n",
    "- Costs: Strategy includes two-sided 15 bps per rebalance; benchmarks exclude costs\n",
    "- Protocols: Walk-forward (expanding window) and 80/20 fixed split (control)\n",
    "- Benchmarks: Equal-Weight (EW), 60/40 (SPY/AGG), SPY\n",
    "\n",
    "## Performance (aligned sample)\n",
    "- Strategy (WalkFwd): CAGR 8.50%, Sharpe 0.567, Max Drawdown −29.77%\n",
    "- Strategy (80/20):  CAGR 8.50%, Sharpe 0.567, Max Drawdown −29.77%\n",
    "- Equal-Weight:      CAGR 8.75%, Sharpe 0.600, Max Drawdown −27.96%\n",
    "- 60/40:             CAGR 6.57%, Sharpe 0.597, Max Drawdown −20.05% (shallowest)\n",
    "- SPY:               CAGR 11.45% (highest), Sharpe 0.744 (highest), Max Drawdown −23.93%\n",
    "\n",
    "## Key takeaways\n",
    "- Return: The momentum + min-variance portfolio (walk-forward) delivers 8.50% CAGR, close to EW (8.75%) but below SPY (11.45%) in this window.\n",
    "- Risk-adjusted: SPY shows the highest Sharpe (0.744). EW (0.600) is slightly above 60/40 (0.597) and the strategy (0.567).\n",
    "- Drawdowns: Strategy and EW have similar drawdowns (about −28% to −30%), deeper than 60/40 (−20%) and somewhat deeper than SPY (−24%).\n",
    "- WalkFwd equals 80/20 on this aligned window, suggesting the evaluated period produced similar effective covariances/weights after trimming to a common index.\n",
    "\n",
    "## Interpretation\n",
    "- In a period with strong SPY trend, a long-only equity momentum portfolio with three risky assets and a 25% single-ETF cap tends to underperform SPY on return and Sharpe while not improving max drawdown versus EW.\n",
    "- 60/40 provides the best drawdown cushion as expected, at the cost of lower return.\n",
    "\n",
    "## Diagnostics\n",
    "- Window alignment: Ensure metrics and plots use the same strictly aligned window (drop any rows with NaNs across series before summarizing).\n",
    "- Cap feasibility: With only 3 assets, a 25% cap can be binding (k * cap < 1). Use wmax = max(0.25, 1/len(TICKERS)) or apply a dynamic cap fallback (cap = max(wmax, 1/k) when only k assets are eligible).\n",
    "- Signal density: Recent months show broad positive 12–1 momentum (all ones), which can make the optimizer’s solution close to EW when caps bind.\n",
    "- Cost assumption: Strategy includes trading costs; benchmarks typically do not.\n"
   ]
  },
  {
   "cell_type": "code",
   "execution_count": null,
   "id": "2a3994c5-41aa-4b57-ae08-309b64e4e51a",
   "metadata": {},
   "outputs": [],
   "source": []
  }
 ],
 "metadata": {
  "kernelspec": {
   "display_name": "Python 3 (ipykernel)",
   "language": "python",
   "name": "python3"
  },
  "language_info": {
   "codemirror_mode": {
    "name": "ipython",
    "version": 3
   },
   "file_extension": ".py",
   "mimetype": "text/x-python",
   "name": "python",
   "nbconvert_exporter": "python",
   "pygments_lexer": "ipython3",
   "version": "3.13.5"
  }
 },
 "nbformat": 4,
 "nbformat_minor": 5
}
