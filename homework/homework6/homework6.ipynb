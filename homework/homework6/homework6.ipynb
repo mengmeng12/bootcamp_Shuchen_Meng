{
 "cells": [
  {
   "cell_type": "code",
   "execution_count": null,
   "id": "8a56dd23-3128-4720-938d-68fab9e7b277",
   "metadata": {},
   "outputs": [],
   "source": []
  },
  {
   "cell_type": "code",
   "execution_count": 7,
   "id": "190c8d77-e957-4b1b-9336-72bcc6ff1a91",
   "metadata": {},
   "outputs": [
    {
     "name": "stdout",
     "output_type": "stream",
     "text": [
      "[Errno 2] No such file or directory: '/path/to/bootcamp_Shuchen_Meng/homework/homework6'\n",
      "/Users/mengmeng/bootcamp_Shuchen_Meng/homework/homework6\n"
     ]
    },
    {
     "name": "stderr",
     "output_type": "stream",
     "text": [
      "/opt/anaconda3/envs/bootcamp_env/lib/python3.10/site-packages/IPython/core/magics/osm.py:393: UserWarning: This is now an optional IPython functionality, using bookmarks requires you to install the `pickleshare` library.\n",
      "  bkms = self.shell.db.get('bookmarks', {})\n"
     ]
    }
   ],
   "source": [
    "cd /path/to/bootcamp_Shuchen_Meng/homework/homework6"
   ]
  },
  {
   "cell_type": "code",
   "execution_count": 8,
   "id": "38f03aa9-39af-4619-bfd9-45a63d3b6c39",
   "metadata": {},
   "outputs": [],
   "source": [
    "%mkdir -p data/raw data/processed src notebooks docs"
   ]
  },
  {
   "cell_type": "code",
   "execution_count": 13,
   "id": "fe6ac79d-b9e8-4c9d-98f9-c11ecd1acf51",
   "metadata": {},
   "outputs": [
    {
     "data": {
      "text/html": [
       "<div>\n",
       "<style scoped>\n",
       "    .dataframe tbody tr th:only-of-type {\n",
       "        vertical-align: middle;\n",
       "    }\n",
       "\n",
       "    .dataframe tbody tr th {\n",
       "        vertical-align: top;\n",
       "    }\n",
       "\n",
       "    .dataframe thead th {\n",
       "        text-align: right;\n",
       "    }\n",
       "</style>\n",
       "<table border=\"1\" class=\"dataframe\">\n",
       "  <thead>\n",
       "    <tr style=\"text-align: right;\">\n",
       "      <th></th>\n",
       "      <th>numeric_col</th>\n",
       "      <th>category_col</th>\n",
       "      <th>price</th>\n",
       "      <th>date_str</th>\n",
       "      <th>category</th>\n",
       "    </tr>\n",
       "  </thead>\n",
       "  <tbody>\n",
       "    <tr>\n",
       "      <th>0</th>\n",
       "      <td>10.0</td>\n",
       "      <td>A</td>\n",
       "      <td>$100</td>\n",
       "      <td>2025-08-01</td>\n",
       "      <td>Electronics</td>\n",
       "    </tr>\n",
       "    <tr>\n",
       "      <th>1</th>\n",
       "      <td>NaN</td>\n",
       "      <td>B</td>\n",
       "      <td>$200</td>\n",
       "      <td>2025-08-02</td>\n",
       "      <td>Furniture</td>\n",
       "    </tr>\n",
       "    <tr>\n",
       "      <th>2</th>\n",
       "      <td>40.0</td>\n",
       "      <td>A</td>\n",
       "      <td>$150</td>\n",
       "      <td>NaN</td>\n",
       "      <td>Toys</td>\n",
       "    </tr>\n",
       "    <tr>\n",
       "      <th>3</th>\n",
       "      <td>55.0</td>\n",
       "      <td>B</td>\n",
       "      <td>NaN</td>\n",
       "      <td>2025-08-04</td>\n",
       "      <td>Clothing</td>\n",
       "    </tr>\n",
       "    <tr>\n",
       "      <th>4</th>\n",
       "      <td>70.0</td>\n",
       "      <td>C</td>\n",
       "      <td>$250</td>\n",
       "      <td>2025-08-05</td>\n",
       "      <td>NaN</td>\n",
       "    </tr>\n",
       "  </tbody>\n",
       "</table>\n",
       "</div>"
      ],
      "text/plain": [
       "   numeric_col category_col price    date_str     category\n",
       "0         10.0            A  $100  2025-08-01  Electronics\n",
       "1          NaN            B  $200  2025-08-02    Furniture\n",
       "2         40.0            A  $150         NaN         Toys\n",
       "3         55.0            B   NaN  2025-08-04     Clothing\n",
       "4         70.0            C  $250  2025-08-05          NaN"
      ]
     },
     "execution_count": 13,
     "metadata": {},
     "output_type": "execute_result"
    }
   ],
   "source": [
    "import pandas as pd\n",
    "df = pd.read_csv(\"data/raw/instructor_dirty.csv\")\n",
    "df.head()"
   ]
  },
  {
   "cell_type": "code",
   "execution_count": 14,
   "id": "86a3d77f-edf8-4fa5-be3a-9f07a3035098",
   "metadata": {},
   "outputs": [
    {
     "name": "stdout",
     "output_type": "stream",
     "text": [
      "{'rows': 5, 'cols': 5, 'num_cols': 1, 'cat_cols': 4}\n"
     ]
    },
    {
     "data": {
      "text/html": [
       "<div>\n",
       "<style scoped>\n",
       "    .dataframe tbody tr th:only-of-type {\n",
       "        vertical-align: middle;\n",
       "    }\n",
       "\n",
       "    .dataframe tbody tr th {\n",
       "        vertical-align: top;\n",
       "    }\n",
       "\n",
       "    .dataframe thead th {\n",
       "        text-align: right;\n",
       "    }\n",
       "</style>\n",
       "<table border=\"1\" class=\"dataframe\">\n",
       "  <thead>\n",
       "    <tr style=\"text-align: right;\">\n",
       "      <th></th>\n",
       "      <th>missing</th>\n",
       "      <th>pct_missing</th>\n",
       "    </tr>\n",
       "  </thead>\n",
       "  <tbody>\n",
       "    <tr>\n",
       "      <th>numeric_col</th>\n",
       "      <td>1</td>\n",
       "      <td>0.2</td>\n",
       "    </tr>\n",
       "    <tr>\n",
       "      <th>price</th>\n",
       "      <td>1</td>\n",
       "      <td>0.2</td>\n",
       "    </tr>\n",
       "    <tr>\n",
       "      <th>date_str</th>\n",
       "      <td>1</td>\n",
       "      <td>0.2</td>\n",
       "    </tr>\n",
       "    <tr>\n",
       "      <th>category</th>\n",
       "      <td>1</td>\n",
       "      <td>0.2</td>\n",
       "    </tr>\n",
       "    <tr>\n",
       "      <th>category_col</th>\n",
       "      <td>0</td>\n",
       "      <td>0.0</td>\n",
       "    </tr>\n",
       "  </tbody>\n",
       "</table>\n",
       "</div>"
      ],
      "text/plain": [
       "              missing  pct_missing\n",
       "numeric_col         1          0.2\n",
       "price               1          0.2\n",
       "date_str            1          0.2\n",
       "category            1          0.2\n",
       "category_col        0          0.0"
      ]
     },
     "execution_count": 14,
     "metadata": {},
     "output_type": "execute_result"
    }
   ],
   "source": [
    "import numpy as np\n",
    "\n",
    "def missing_summary(df):\n",
    "    ms = df.isna().sum().to_frame(name='missing')\n",
    "    ms['pct_missing'] = ms['missing'] / len(df)\n",
    "    return ms.sort_values('pct_missing', ascending=False)\n",
    "\n",
    "before_shape = df.shape\n",
    "before_missing = missing_summary(df)\n",
    "num_cols = df.select_dtypes(include=[np.number]).columns.tolist()\n",
    "cat_cols = [c for c in df.columns if c not in num_cols]\n",
    "\n",
    "print({\"rows\": before_shape[0], \"cols\": before_shape[1], \"num_cols\": len(num_cols), \"cat_cols\": len(cat_cols)})\n",
    "before_missing.head(10)"
   ]
  },
  {
   "cell_type": "code",
   "execution_count": 24,
   "id": "223977f9-520e-4452-8c3f-ae8a669bc7f0",
   "metadata": {},
   "outputs": [
    {
     "data": {
      "text/html": [
       "<div>\n",
       "<style scoped>\n",
       "    .dataframe tbody tr th:only-of-type {\n",
       "        vertical-align: middle;\n",
       "    }\n",
       "\n",
       "    .dataframe tbody tr th {\n",
       "        vertical-align: top;\n",
       "    }\n",
       "\n",
       "    .dataframe thead th {\n",
       "        text-align: right;\n",
       "    }\n",
       "</style>\n",
       "<table border=\"1\" class=\"dataframe\">\n",
       "  <thead>\n",
       "    <tr style=\"text-align: right;\">\n",
       "      <th></th>\n",
       "      <th>numeric_col</th>\n",
       "      <th>category_col</th>\n",
       "      <th>price</th>\n",
       "      <th>date_str</th>\n",
       "      <th>category</th>\n",
       "    </tr>\n",
       "  </thead>\n",
       "  <tbody>\n",
       "    <tr>\n",
       "      <th>0</th>\n",
       "      <td>-1.733690</td>\n",
       "      <td>A</td>\n",
       "      <td>$100</td>\n",
       "      <td>2025-08-01</td>\n",
       "      <td>Electronics</td>\n",
       "    </tr>\n",
       "    <tr>\n",
       "      <th>1</th>\n",
       "      <td>0.150756</td>\n",
       "      <td>B</td>\n",
       "      <td>$200</td>\n",
       "      <td>2025-08-02</td>\n",
       "      <td>Furniture</td>\n",
       "    </tr>\n",
       "    <tr>\n",
       "      <th>2</th>\n",
       "      <td>-0.226134</td>\n",
       "      <td>A</td>\n",
       "      <td>$150</td>\n",
       "      <td>NaN</td>\n",
       "      <td>Toys</td>\n",
       "    </tr>\n",
       "    <tr>\n",
       "      <th>3</th>\n",
       "      <td>0.527645</td>\n",
       "      <td>B</td>\n",
       "      <td>NaN</td>\n",
       "      <td>2025-08-04</td>\n",
       "      <td>Clothing</td>\n",
       "    </tr>\n",
       "    <tr>\n",
       "      <th>4</th>\n",
       "      <td>1.281423</td>\n",
       "      <td>C</td>\n",
       "      <td>$250</td>\n",
       "      <td>2025-08-05</td>\n",
       "      <td>NaN</td>\n",
       "    </tr>\n",
       "  </tbody>\n",
       "</table>\n",
       "</div>"
      ],
      "text/plain": [
       "   numeric_col category_col price    date_str     category\n",
       "0    -1.733690            A  $100  2025-08-01  Electronics\n",
       "1     0.150756            B  $200  2025-08-02    Furniture\n",
       "2    -0.226134            A  $150         NaN         Toys\n",
       "3     0.527645            B   NaN  2025-08-04     Clothing\n",
       "4     1.281423            C  $250  2025-08-05          NaN"
      ]
     },
     "execution_count": 24,
     "metadata": {},
     "output_type": "execute_result"
    }
   ],
   "source": [
    "from src.cleaning import fill_missing_median, drop_missing, normalize_data\n",
    "\n",
    "# Fill missing numeric with column medians\n",
    "step1 = fill_missing_median(df)\n",
    "\n",
    "# Drop any rows still containing NaN (adjust subset if only some columns must be complete)\n",
    "step2 = drop_missing(step1,how='all')\n",
    "\n",
    "# Normalize numeric columns (choose method)\n",
    "cleaned, norm_params = normalize_data(step2, method='zscore')  # or 'minmax'\n",
    "cleaned.head()"
   ]
  },
  {
   "cell_type": "code",
   "execution_count": 26,
   "id": "feb3b538-5845-46f1-8421-5a4db830083e",
   "metadata": {},
   "outputs": [
    {
     "name": "stdout",
     "output_type": "stream",
     "text": [
      "/Users/mengmeng/bootcamp_Shuchen_Meng/homework/homework6\n"
     ]
    }
   ],
   "source": [
    "!pwd"
   ]
  },
  {
   "cell_type": "code",
   "execution_count": 28,
   "id": "17e50462-c2fe-4b91-a9d8-c17ef4598fa6",
   "metadata": {},
   "outputs": [],
   "source": [
    "cleaned.to_csv('data/processed/cleaned_data.csv', index=False)"
   ]
  },
  {
   "cell_type": "code",
   "execution_count": 29,
   "id": "77cdbe98-ecba-48df-bb64-46b0daed41fc",
   "metadata": {},
   "outputs": [
    {
     "name": "stdout",
     "output_type": "stream",
     "text": [
      "BEFORE rows, cols: (5, 5)\n",
      "AFTER  rows, cols: (5, 5)\n"
     ]
    },
    {
     "data": {
      "text/html": [
       "<div>\n",
       "<style scoped>\n",
       "    .dataframe tbody tr th:only-of-type {\n",
       "        vertical-align: middle;\n",
       "    }\n",
       "\n",
       "    .dataframe tbody tr th {\n",
       "        vertical-align: top;\n",
       "    }\n",
       "\n",
       "    .dataframe thead th {\n",
       "        text-align: right;\n",
       "    }\n",
       "</style>\n",
       "<table border=\"1\" class=\"dataframe\">\n",
       "  <thead>\n",
       "    <tr style=\"text-align: right;\">\n",
       "      <th></th>\n",
       "      <th>missing_before</th>\n",
       "      <th>pct_missing_before</th>\n",
       "      <th>missing_after</th>\n",
       "      <th>pct_missing_after</th>\n",
       "    </tr>\n",
       "  </thead>\n",
       "  <tbody>\n",
       "    <tr>\n",
       "      <th>numeric_col</th>\n",
       "      <td>1</td>\n",
       "      <td>0.2</td>\n",
       "      <td>0</td>\n",
       "      <td>0.0</td>\n",
       "    </tr>\n",
       "    <tr>\n",
       "      <th>price</th>\n",
       "      <td>1</td>\n",
       "      <td>0.2</td>\n",
       "      <td>1</td>\n",
       "      <td>0.2</td>\n",
       "    </tr>\n",
       "    <tr>\n",
       "      <th>date_str</th>\n",
       "      <td>1</td>\n",
       "      <td>0.2</td>\n",
       "      <td>1</td>\n",
       "      <td>0.2</td>\n",
       "    </tr>\n",
       "    <tr>\n",
       "      <th>category</th>\n",
       "      <td>1</td>\n",
       "      <td>0.2</td>\n",
       "      <td>1</td>\n",
       "      <td>0.2</td>\n",
       "    </tr>\n",
       "    <tr>\n",
       "      <th>category_col</th>\n",
       "      <td>0</td>\n",
       "      <td>0.0</td>\n",
       "      <td>0</td>\n",
       "      <td>0.0</td>\n",
       "    </tr>\n",
       "  </tbody>\n",
       "</table>\n",
       "</div>"
      ],
      "text/plain": [
       "              missing_before  pct_missing_before  missing_after  \\\n",
       "numeric_col                1                 0.2              0   \n",
       "price                      1                 0.2              1   \n",
       "date_str                   1                 0.2              1   \n",
       "category                   1                 0.2              1   \n",
       "category_col               0                 0.0              0   \n",
       "\n",
       "              pct_missing_after  \n",
       "numeric_col                 0.0  \n",
       "price                       0.2  \n",
       "date_str                    0.2  \n",
       "category                    0.2  \n",
       "category_col                0.0  "
      ]
     },
     "execution_count": 29,
     "metadata": {},
     "output_type": "execute_result"
    }
   ],
   "source": [
    "after_shape = cleaned.shape\n",
    "after_missing = missing_summary(cleaned)\n",
    "\n",
    "print(\"BEFORE rows, cols:\", before_shape)\n",
    "print(\"AFTER  rows, cols:\", after_shape)\n",
    "\n",
    "comp_missing = before_missing.join(after_missing, lsuffix='_before', rsuffix='_after').fillna(0)\n",
    "comp_missing.sort_values('pct_missing_before', ascending=False).head(10)\n"
   ]
  },
  {
   "cell_type": "code",
   "execution_count": 30,
   "id": "67e2ffd0-23aa-483c-ab3a-678e3513552e",
   "metadata": {},
   "outputs": [
    {
     "data": {
      "text/plain": [
       "(              mean        std   min   max\n",
       " numeric_col  43.75  25.617377  10.0  70.0,\n",
       "              mean       std      min       max\n",
       " numeric_col   0.0  1.118034 -1.73369  1.281423)"
      ]
     },
     "execution_count": 30,
     "metadata": {},
     "output_type": "execute_result"
    }
   ],
   "source": [
    "# Numeric summary comparison for a few columns\n",
    "preview_cols = num_cols[:8]\n",
    "summary_before = df[preview_cols].describe().T[[\"mean\",\"std\",\"min\",\"max\"]] if preview_cols else None\n",
    "summary_after  = cleaned[preview_cols].describe().T[[\"mean\",\"std\",\"min\",\"max\"]] if preview_cols else None\n",
    "summary_before, summary_after"
   ]
  },
  {
   "cell_type": "code",
   "execution_count": 31,
   "id": "20f614b4-cc28-4928-a7b9-ca5658fa469e",
   "metadata": {},
   "outputs": [
    {
     "data": {
      "image/png": "[encoded data removed]",
      "text/plain": [
       "<Figure size 640x480 with 1 Axes>"
      ]
     },
     "metadata": {},
     "output_type": "display_data"
    }
   ],
   "source": [
    "import matplotlib.pyplot as plt\n",
    "if num_cols:\n",
    "    col = num_cols[0]\n",
    "    plt.figure()\n",
    "    plt.hist(df[col].dropna(), bins=30, alpha=0.5, label='original')\n",
    "    plt.hist(cleaned[col].dropna(), bins=30, alpha=0.5, label='cleaned')\n",
    "    plt.title(f\"Distribution before vs after: {col}\")\n",
    "    plt.legend(); plt.grid(True); plt.show()"
   ]
  },
  {
   "cell_type": "code",
   "execution_count": null,
   "id": "a8c66fcb-9284-4311-b67f-54e192d28e48",
   "metadata": {},
   "outputs": [],
   "source": [
    "!git add .\n",
    "!git"
   ]
  }
 ],
 "metadata": {
  "kernelspec": {
   "display_name": "Python (bootcamp_env)",
   "language": "python",
   "name": "bootcamp_env"
  },
  "language_info": {
   "codemirror_mode": {
    "name": "ipython",
    "version": 3
   },
   "file_extension": ".py",
   "mimetype": "text/x-python",
   "name": "python",
   "nbconvert_exporter": "python",
   "pygments_lexer": "ipython3",
   "version": "3.10.18"
  }
 },
 "nbformat": 4,
 "nbformat_minor": 5
}
