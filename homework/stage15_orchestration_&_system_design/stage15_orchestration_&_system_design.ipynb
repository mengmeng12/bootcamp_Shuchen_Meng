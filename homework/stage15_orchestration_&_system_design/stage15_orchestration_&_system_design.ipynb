{
 "cells": [
  {
   "cell_type": "code",
   "execution_count": 1,
   "id": "8143d592-1770-44ff-a794-d6737ed1e4a2",
   "metadata": {},
   "outputs": [],
   "source": [
    "from pathlib import Path"
   ]
  },
  {
   "cell_type": "code",
   "execution_count": 2,
   "id": "a49ed756-237d-404d-afe1-5b2081b01e38",
   "metadata": {},
   "outputs": [],
   "source": [
    "readme = \"\"\"\n",
    "\"\"\"\n",
    "NOTE / 使用说明\n",
    "This script is part of the Momentum MFE project and depends on the project layout\n",
    "(data/, reports/checkpoints/, src/). Run it FROM THE PROJECT ROOT, e.g.:\n",
    "\n",
    "  conda activate bootcamp_env\n",
    "  python -m src.pipelines.fetch --tickers SPY QQQ EEM AGG --start 2005-01-01\n",
    "\n",
    "Running it standalone (e.g., copied into a homework folder) will NOT work unless\n",
    "you recreate the same folders or override paths via --out and --checkpoint.\n",
    "It also requires internet access for yfinance.\n",
    "\n",
    "# Orchestration plan\n",
    "\n",
    "## Pipeline Decomposition\n",
    "\n",
    "- fetch_data → data/raw/adj_close_daily.csv → Nan → daily/weekly\n",
    "- prep_monthly→ data/processed/prices_monthly.parquet → fetch_data\n",
    "- build_features（12–1 & signal）→ data/processed/signals.parquet → prep_monthly\n",
    "- fit_cov（60m LW COV）→ data/processed/cov_YYYYMM.pkl → prep_monthly\n",
    "- optimize_weights→ data/processed/weights.parquet → build_features + fit_cov\n",
    "- backtest（walk-forward/80-20）→ reports/nav.parquet, reports/perf.csv → optimize_weights\n",
    "- persist_model → model/final_model.pkl → fit_cov\n",
    "- serve_api（Flask）→ processinh → model/final_model.pkl\n",
    "\n",
    "\n",
    "## How to run it \n",
    "1) conda activate bootcamp_env && pip install -r requirements.txt\n",
    "2) Fetch data (robust downloader): python -m src.pipelines.fetch --tickers SPY QQQ EEM AGG --start 2005-01-01 --out data/raw/adj_close_daily.csv\n",
    "3) Launch Jupyter: jupyter lab  (open notebooks/momentum_project.ipynb and Run All)\n",
    "4) Parameters (tickers, WMAX, costs, lookbacks) are set near the top of the notebook.\n",
    "5) Model persistence: run section “Model Persistence” to save model/final_model.pkl and test reload.\n",
    "6) Start API (optional): export FLASK_APP=api/app.py && flask run  # http://127.0.0.1:5000\n",
    "7) Test API: curl http://127.0.0.1:5000/predict/101  or  POST {\"signals\":{\"SPY\":1,\"QQQ\":0,\"EEM\":1},\"wmax\":0.33}\n",
    "8) Streamlit UI (optional): streamlit run app/streamlit_app.py\n",
    "9) Check outputs in reports/ (NAV plots, perf table) and logs/checkpoints in reports/checkpoints/.\n",
    "\"\"\"\n"
   ]
  },
  {
   "cell_type": "code",
   "execution_count": 3,
   "id": "564c09d3-66dd-4172-b397-1681ed9099f1",
   "metadata": {},
   "outputs": [
    {
     "name": "stdout",
     "output_type": "stream",
     "text": [
      "Wrote README.md\n"
     ]
    }
   ],
   "source": [
    "Path(\"README.md\").write_text(readme, encoding=\"utf-8\")\n",
    "print(\"Wrote README.md\")"
   ]
  },
  {
   "cell_type": "markdown",
   "id": "2dd73f1d-dc58-446c-ab81-2ece3152c909",
   "metadata": {},
   "source": [
    "### "
   ]
  }
 ],
 "metadata": {
  "kernelspec": {
   "display_name": "Python (bootcamp_env)",
   "language": "python",
   "name": "bootcamp_env"
  },
  "language_info": {
   "codemirror_mode": {
    "name": "ipython",
    "version": 3
   },
   "file_extension": ".py",
   "mimetype": "text/x-python",
   "name": "python",
   "nbconvert_exporter": "python",
   "pygments_lexer": "ipython3",
   "version": "3.10.18"
  }
 },
 "nbformat": 4,
 "nbformat_minor": 5
}
