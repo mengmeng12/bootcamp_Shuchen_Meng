{
 "cells": [
  {
   "cell_type": "code",
   "execution_count": 1,
   "id": "900da83f-5d15-41c4-b83c-1d39a39d07f3",
   "metadata": {},
   "outputs": [],
   "source": [
    "import os\n",
    "import numpy as np\n",
    "import pandas as pd"
   ]
  },
  {
   "cell_type": "code",
   "execution_count": 7,
   "id": "1b0e5b7f-cc37-4b59-9a0b-9a97724b9bb1",
   "metadata": {},
   "outputs": [
    {
     "data": {
      "text/plain": [
       "'/Users/mengmeng/bootcamp_Shuchen_Meng/homework/homework7'"
      ]
     },
     "execution_count": 7,
     "metadata": {},
     "output_type": "execute_result"
    }
   ],
   "source": [
    "%pwd"
   ]
  },
  {
   "cell_type": "code",
   "execution_count": 8,
   "id": "36ead5f5-ce9e-494c-9a5c-6bf3c66e1c71",
   "metadata": {},
   "outputs": [],
   "source": [
    "RAW_PATH = \"data/raw/outliers_homework.csv\" "
   ]
  },
  {
   "cell_type": "code",
   "execution_count": 9,
   "id": "61e7d505-1e69-4ed6-9151-2310c959fa76",
   "metadata": {},
   "outputs": [
    {
     "name": "stdout",
     "output_type": "stream",
     "text": [
      "CSV not found; generating synthetic fallback and saving to data/raw/outliers_homework.csv\n"
     ]
    },
    {
     "data": {
      "text/html": [
       "<div>\n",
       "<style scoped>\n",
       "    .dataframe tbody tr th:only-of-type {\n",
       "        vertical-align: middle;\n",
       "    }\n",
       "\n",
       "    .dataframe tbody tr th {\n",
       "        vertical-align: top;\n",
       "    }\n",
       "\n",
       "    .dataframe thead th {\n",
       "        text-align: right;\n",
       "    }\n",
       "</style>\n",
       "<table border=\"1\" class=\"dataframe\">\n",
       "  <thead>\n",
       "    <tr style=\"text-align: right;\">\n",
       "      <th></th>\n",
       "      <th>x</th>\n",
       "      <th>y</th>\n",
       "    </tr>\n",
       "  </thead>\n",
       "  <tbody>\n",
       "    <tr>\n",
       "      <th>0</th>\n",
       "      <td>0.000000</td>\n",
       "      <td>3.542946</td>\n",
       "    </tr>\n",
       "    <tr>\n",
       "      <th>1</th>\n",
       "      <td>0.169492</td>\n",
       "      <td>-0.033603</td>\n",
       "    </tr>\n",
       "    <tr>\n",
       "      <th>2</th>\n",
       "      <td>0.338983</td>\n",
       "      <td>1.169246</td>\n",
       "    </tr>\n",
       "    <tr>\n",
       "      <th>3</th>\n",
       "      <td>0.508475</td>\n",
       "      <td>2.148784</td>\n",
       "    </tr>\n",
       "    <tr>\n",
       "      <th>4</th>\n",
       "      <td>0.677966</td>\n",
       "      <td>0.300278</td>\n",
       "    </tr>\n",
       "  </tbody>\n",
       "</table>\n",
       "</div>"
      ],
      "text/plain": [
       "          x         y\n",
       "0  0.000000  3.542946\n",
       "1  0.169492 -0.033603\n",
       "2  0.338983  1.169246\n",
       "3  0.508475  2.148784\n",
       "4  0.677966  0.300278"
      ]
     },
     "execution_count": 9,
     "metadata": {},
     "output_type": "execute_result"
    }
   ],
   "source": [
    "def make_synthetic_df(seed=7):\n",
    "    np.random.seed(seed)\n",
    "    x = np.linspace(0, 10, 60)\n",
    "    y = 1.8 * x + 0.5 + np.random.normal(0, 1.8, size=x.size)\n",
    "    # 注入离群点（与你的代码保持一致）\n",
    "    y[8]  += 20\n",
    "    y[25] -= 18\n",
    "    y[47] += 15\n",
    "    return pd.DataFrame({\"x\": x, \"y\": y})\n",
    "\n",
    "if os.path.exists(RAW_PATH):\n",
    "    df = pd.read_csv(RAW_PATH)\n",
    "    print(\"Loaded provided dataset from\", RAW_PATH)\n",
    "else:\n",
    "    print(\"CSV not found; generating synthetic fallback and saving to\", RAW_PATH)\n",
    "    df = make_synthetic_df()\n",
    "    os.makedirs(os.path.dirname(RAW_PATH), exist_ok=True)\n",
    "    df.to_csv(RAW_PATH, index=False)\n",
    "\n",
    "df.head()"
   ]
  },
  {
   "cell_type": "code",
   "execution_count": 10,
   "id": "5295dfd4-212c-44fb-a422-05f04d092300",
   "metadata": {},
   "outputs": [
    {
     "data": {
      "text/plain": [
       "outlier_iqr\n",
       "False    58\n",
       "True      2\n",
       "Name: count, dtype: int64"
      ]
     },
     "execution_count": 10,
     "metadata": {},
     "output_type": "execute_result"
    }
   ],
   "source": [
    "def detect_outliers_iqr(series: pd.Series, k: float = 1.5) -> pd.Series:\n",
    "    \"\"\"Return boolean mask where True indicates an outlier by IQR rule.\n",
    "    Parameters\n",
    "    ----------\n",
    "    series : pd.Series\n",
    "        Numeric series to evaluate.\n",
    "    k : float\n",
    "        Multiplier for IQR to set fences (default 1.5).\n",
    "    \"\"\"\n",
    "    q1 = series.quantile(0.25)\n",
    "    q3 = series.quantile(0.75)\n",
    "    iqr = q3 - q1\n",
    "    lower = q1 - k * iqr\n",
    "    upper = q3 + k * iqr\n",
    "    return (series < lower) | (series > upper)\n",
    "\n",
    "df['outlier_iqr'] = detect_outliers_iqr(df['y'])\n",
    "df['outlier_iqr'].value_counts()"
   ]
  },
  {
   "cell_type": "code",
   "execution_count": 17,
   "id": "049ad653-fdcd-4851-8d0b-fe717f324db1",
   "metadata": {},
   "outputs": [],
   "source": [
    "import matplotlib.pyplot as plt\n",
    "from sklearn.linear_model import LinearRegression\n",
    "from sklearn.metrics import mean_absolute_error, r2_score"
   ]
  },
  {
   "cell_type": "code",
   "execution_count": 16,
   "id": "62302f3c-f844-464d-b2a9-507b74a7c916",
   "metadata": {},
   "outputs": [
    {
     "name": "stdout",
     "output_type": "stream",
     "text": [
      "Collecting scikit-learn\n",
      "  Downloading scikit_learn-1.7.1-cp310-cp310-macosx_12_0_arm64.whl.metadata (11 kB)\n",
      "Requirement already satisfied: numpy>=1.22.0 in /opt/anaconda3/envs/bootcamp_env/lib/python3.10/site-packages (from scikit-learn) (2.2.6)\n",
      "Collecting scipy>=1.8.0 (from scikit-learn)\n",
      "  Downloading scipy-1.15.3-cp310-cp310-macosx_14_0_arm64.whl.metadata (61 kB)\n",
      "Collecting joblib>=1.2.0 (from scikit-learn)\n",
      "  Downloading joblib-1.5.1-py3-none-any.whl.metadata (5.6 kB)\n",
      "Collecting threadpoolctl>=3.1.0 (from scikit-learn)\n",
      "  Downloading threadpoolctl-3.6.0-py3-none-any.whl.metadata (13 kB)\n",
      "Downloading scikit_learn-1.7.1-cp310-cp310-macosx_12_0_arm64.whl (8.7 MB)\n",
      "\u001b[2K   \u001b[90m━━━━━━━━━━━━━━━━━━━━━━━━━━━━━━━━━━━━━━━━\u001b[0m \u001b[32m8.7/8.7 MB\u001b[0m \u001b[31m5.8 MB/s\u001b[0m eta \u001b[36m0:00:00\u001b[0ma \u001b[36m0:00:01\u001b[0m\n",
      "Downloading joblib-1.5.1-py3-none-any.whl (307 kB)\n",
      "Downloading scipy-1.15.3-cp310-cp310-macosx_14_0_arm64.whl (22.4 MB)\n",
      "\u001b[2K   \u001b[90m━━━━━━━━━━━━━━━━━━━━━━━━━━━━━━━━━━━━━━━━\u001b[0m \u001b[32m22.4/22.4 MB\u001b[0m \u001b[31m6.4 MB/s\u001b[0m eta \u001b[36m0:00:00\u001b[0ma \u001b[36m0:00:01\u001b[0m\n",
      "\u001b[?25hDownloading threadpoolctl-3.6.0-py3-none-any.whl (18 kB)\n",
      "Installing collected packages: threadpoolctl, scipy, joblib, scikit-learn\n",
      "\u001b[2K   \u001b[90m━━━━━━━━━━━━━━━━━━━━━━━━━━━━━━━━━━━━━━━━\u001b[0m \u001b[32m4/4\u001b[0m [scikit-learn][0m [scikit-learn]\n",
      "\u001b[1A\u001b[2KSuccessfully installed joblib-1.5.1 scikit-learn-1.7.1 scipy-1.15.3 threadpoolctl-3.6.0\n",
      "Note: you may need to restart the kernel to use updated packages.\n"
     ]
    }
   ],
   "source": [
    "%pip install scikit-learn"
   ]
  },
  {
   "cell_type": "code",
   "execution_count": 18,
   "id": "ee2743dd-ee81-42a7-a279-544bbab3dc88",
   "metadata": {},
   "outputs": [
    {
     "data": {
      "image/png": "[encoded data removed]",
      "text/plain": [
       "<Figure size 640x480 with 1 Axes>"
      ]
     },
     "metadata": {},
     "output_type": "display_data"
    }
   ],
   "source": [
    "plt.figure()\n",
    "plt.boxplot(df['y'], vert=True)\n",
    "plt.title('Boxplot of y (with potential outliers)')\n",
    "plt.ylabel('y')\n",
    "plt.show()"
   ]
  },
  {
   "cell_type": "code",
   "execution_count": 19,
   "id": "89c36f4f-c4d9-47fa-9ec9-b6cdb8f1839f",
   "metadata": {},
   "outputs": [
    {
     "data": {
      "text/html": [
       "<div>\n",
       "<style scoped>\n",
       "    .dataframe tbody tr th:only-of-type {\n",
       "        vertical-align: middle;\n",
       "    }\n",
       "\n",
       "    .dataframe tbody tr th {\n",
       "        vertical-align: top;\n",
       "    }\n",
       "\n",
       "    .dataframe thead th {\n",
       "        text-align: right;\n",
       "    }\n",
       "</style>\n",
       "<table border=\"1\" class=\"dataframe\">\n",
       "  <thead>\n",
       "    <tr style=\"text-align: right;\">\n",
       "      <th>outlier_z</th>\n",
       "      <th>False</th>\n",
       "      <th>True</th>\n",
       "    </tr>\n",
       "    <tr>\n",
       "      <th>outlier_iqr</th>\n",
       "      <th></th>\n",
       "      <th></th>\n",
       "    </tr>\n",
       "  </thead>\n",
       "  <tbody>\n",
       "    <tr>\n",
       "      <th>False</th>\n",
       "      <td>58</td>\n",
       "      <td>0</td>\n",
       "    </tr>\n",
       "    <tr>\n",
       "      <th>True</th>\n",
       "      <td>0</td>\n",
       "      <td>2</td>\n",
       "    </tr>\n",
       "  </tbody>\n",
       "</table>\n",
       "</div>"
      ],
      "text/plain": [
       "outlier_z    False  True \n",
       "outlier_iqr              \n",
       "False           58      0\n",
       "True             0      2"
      ]
     },
     "execution_count": 19,
     "metadata": {},
     "output_type": "execute_result"
    }
   ],
   "source": [
    "def detect_outliers_zscore(series: pd.Series, threshold: float = 3.0) -> pd.Series:\n",
    "    \"\"\"Return boolean mask where True indicates |z| > threshold.\"\"\"\n",
    "    mu = series.mean()\n",
    "    sigma = series.std(ddof=0)\n",
    "    z = (series - mu) / (sigma if sigma != 0 else 1.0)\n",
    "    return z.abs() > threshold\n",
    "\n",
    "df['outlier_z'] = detect_outliers_zscore(df['y'], threshold=3.0)\n",
    "pd.crosstab(df['outlier_iqr'], df['outlier_z'])"
   ]
  },
  {
   "cell_type": "code",
   "execution_count": 21,
   "id": "d1684d86-b584-4321-b5ab-0053c1ab3ea8",
   "metadata": {},
   "outputs": [
    {
     "data": {
      "text/html": [
       "<div>\n",
       "<style scoped>\n",
       "    .dataframe tbody tr th:only-of-type {\n",
       "        vertical-align: middle;\n",
       "    }\n",
       "\n",
       "    .dataframe tbody tr th {\n",
       "        vertical-align: top;\n",
       "    }\n",
       "\n",
       "    .dataframe thead th {\n",
       "        text-align: right;\n",
       "    }\n",
       "</style>\n",
       "<table border=\"1\" class=\"dataframe\">\n",
       "  <thead>\n",
       "    <tr style=\"text-align: right;\">\n",
       "      <th></th>\n",
       "      <th>x</th>\n",
       "      <th>y</th>\n",
       "      <th>outlier_iqr</th>\n",
       "      <th>outlier_z</th>\n",
       "      <th>y_winsor</th>\n",
       "    </tr>\n",
       "  </thead>\n",
       "  <tbody>\n",
       "    <tr>\n",
       "      <th>0</th>\n",
       "      <td>0.000000</td>\n",
       "      <td>3.542946</td>\n",
       "      <td>False</td>\n",
       "      <td>False</td>\n",
       "      <td>3.542946</td>\n",
       "    </tr>\n",
       "    <tr>\n",
       "      <th>1</th>\n",
       "      <td>0.169492</td>\n",
       "      <td>-0.033603</td>\n",
       "      <td>False</td>\n",
       "      <td>False</td>\n",
       "      <td>0.283584</td>\n",
       "    </tr>\n",
       "    <tr>\n",
       "      <th>2</th>\n",
       "      <td>0.338983</td>\n",
       "      <td>1.169246</td>\n",
       "      <td>False</td>\n",
       "      <td>False</td>\n",
       "      <td>1.169246</td>\n",
       "    </tr>\n",
       "    <tr>\n",
       "      <th>3</th>\n",
       "      <td>0.508475</td>\n",
       "      <td>2.148784</td>\n",
       "      <td>False</td>\n",
       "      <td>False</td>\n",
       "      <td>2.148784</td>\n",
       "    </tr>\n",
       "    <tr>\n",
       "      <th>4</th>\n",
       "      <td>0.677966</td>\n",
       "      <td>0.300278</td>\n",
       "      <td>False</td>\n",
       "      <td>False</td>\n",
       "      <td>0.300278</td>\n",
       "    </tr>\n",
       "  </tbody>\n",
       "</table>\n",
       "</div>"
      ],
      "text/plain": [
       "          x         y  outlier_iqr  outlier_z  y_winsor\n",
       "0  0.000000  3.542946        False      False  3.542946\n",
       "1  0.169492 -0.033603        False      False  0.283584\n",
       "2  0.338983  1.169246        False      False  1.169246\n",
       "3  0.508475  2.148784        False      False  2.148784\n",
       "4  0.677966  0.300278        False      False  0.300278"
      ]
     },
     "execution_count": 21,
     "metadata": {},
     "output_type": "execute_result"
    }
   ],
   "source": [
    "def winsorize_series(series: pd.Series, lower: float = 0.05, upper: float = 0.95) -> pd.Series:\n",
    "    if not (0.0 <= lower < upper <= 1.0):\n",
    "        raise ValueError(f\"Invalid quantile bounds: lower={lower}, upper={upper}. Must satisfy 0 <= lower < upper <= 1.\")\n",
    "\n",
    "    # Ensure Series\n",
    "    s = pd.Series(series).copy()\n",
    "\n",
    "    # Try to ensure numeric; non-numeric becomes NaN\n",
    "    if not np.issubdtype(s.dtype, np.number):\n",
    "        s = pd.to_numeric(s, errors=\"coerce\")\n",
    "\n",
    "    # If all NaN or empty, just return\n",
    "    if s.dropna().empty:\n",
    "        return s\n",
    "\n",
    "    # Compute quantile caps (NaNs automatically ignored by quantile on Series)\n",
    "    q_low = s.quantile(lower, interpolation=\"linear\")\n",
    "    q_high = s.quantile(upper, interpolation=\"linear\")\n",
    "\n",
    "    # If quantiles collapse (e.g., constant series), just return clip (no-op)\n",
    "    if pd.isna(q_low) or pd.isna(q_high):\n",
    "        return s\n",
    "\n",
    "    # Clip to the quantile bounds\n",
    "    return s.clip(lower=q_low, upper=q_high)\n",
    "\n",
    "\n",
    "df[\"y_winsor\"] = winsorize_series(df[\"y\"], lower=0.05, upper=0.95)\n",
    "df.head()"
   ]
  },
  {
   "cell_type": "code",
   "execution_count": 23,
   "id": "7833ea99-1ab0-42d7-8181-7e2aa3ec75e9",
   "metadata": {},
   "outputs": [
    {
     "name": "stdout",
     "output_type": "stream",
     "text": [
      "Summary WITH outliers : {'mean': 9.710042426987236, 'median': 9.444204742384, 'std': 7.274870579327088}\n",
      "Summary WITHOUT outliers: {'mean': 9.67589645668498, 'median': 9.444204742384, 'std': 5.990403445739301}\n",
      "Summary WINSORIZED (5%-95%): {'mean': 9.583243455402544, 'median': 9.444204742384, 'std': 5.878790806049989}\n"
     ]
    }
   ],
   "source": [
    "def summary_stats(s: pd.Series) -> dict:\n",
    "    return {\"mean\": float(s.mean()), \"median\": float(s.median()), \"std\": float(s.std())}\n",
    "\n",
    "y_with = df[\"y\"]\n",
    "y_without = df.loc[~df[\"outlier_iqr\"], \"y\"]\n",
    "y_winsor = df[\"y_winsor\"]\n",
    "\n",
    "print(\"Summary WITH outliers :\", summary_stats(y_with))\n",
    "print(\"Summary WITHOUT outliers:\", summary_stats(y_without))\n",
    "print(\"Summary WINSORIZED (5%-95%):\", summary_stats(y_winsor))"
   ]
  },
  {
   "cell_type": "code",
   "execution_count": 24,
   "id": "9452b67d-a933-4819-8fde-9d8d19e65268",
   "metadata": {},
   "outputs": [
    {
     "name": "stdout",
     "output_type": "stream",
     "text": [
      "Linear Regression — WITH outliers : {'coef': 1.797589279550303, 'intercept': 0.7220960292357219, 'R2': 0.5349660376014858, 'MAE': 2.3831441622669947}\n",
      "Linear Regression — WITHOUT outliers: {'coef': 1.6563116856386055, 'intercept': 1.4572604478762354, 'R2': 0.6806457878480937, 'MAE': 1.8631272421408103}\n",
      "Linear Regression — WINSORIZED     : {'coef': 1.7114347667068772, 'intercept': 1.0260696218681584, 'R2': 0.7425753075489648, 'MAE': 1.8193699470244988}\n"
     ]
    }
   ],
   "source": [
    "from sklearn.linear_model import LinearRegression\n",
    "from sklearn.metrics import mean_absolute_error, r2_score\n",
    "\n",
    "def fit_and_eval(X: pd.DataFrame, y: pd.Series) -> dict:\n",
    "    model = LinearRegression()\n",
    "    model.fit(X, y)\n",
    "    y_pred = model.predict(X)\n",
    "    return {\n",
    "        \"coef\": float(model.coef_[0]),\n",
    "        \"intercept\": float(model.intercept_),\n",
    "        \"R2\": float(r2_score(y, y_pred)),\n",
    "        \"MAE\": float(mean_absolute_error(y, y_pred)),\n",
    "    }\n",
    "\n",
    "\n",
    "X_with = df[[\"x\"]]\n",
    "y_with = df[\"y\"]\n",
    "\n",
    "X_without = df.loc[~df[\"outlier_iqr\"], [\"x\"]]\n",
    "y_without = df.loc[~df[\"outlier_iqr\"], \"y\"]\n",
    "\n",
    "# winsorize 情况下 X 不变，但 y 被截顶\n",
    "y_winsor = y_winsor  \n",
    "\n",
    "print(\"Linear Regression — WITH outliers :\", fit_and_eval(X_with, y_with))\n",
    "print(\"Linear Regression — WITHOUT outliers:\", fit_and_eval(X_without, y_without))\n",
    "print(\"Linear Regression — WINSORIZED     :\", fit_and_eval(X_with, y_winsor))\n"
   ]
  },
  {
   "cell_type": "code",
   "execution_count": null,
   "id": "3403c15b-ff1e-469b-989b-1ed246b294c3",
   "metadata": {},
   "outputs": [],
   "source": []
  }
 ],
 "metadata": {
  "kernelspec": {
   "display_name": "Python (bootcamp_env)",
   "language": "python",
   "name": "bootcamp_env"
  },
  "language_info": {
   "codemirror_mode": {
    "name": "ipython",
    "version": 3
   },
   "file_extension": ".py",
   "mimetype": "text/x-python",
   "name": "python",
   "nbconvert_exporter": "python",
   "pygments_lexer": "ipython3",
   "version": "3.10.18"
  }
 },
 "nbformat": 4,
 "nbformat_minor": 5
}
