{
 "cells": [
  {
   "cell_type": "code",
   "execution_count": 5,
   "id": "fe17bcb3-5927-4018-b470-a721beecb42a",
   "metadata": {},
   "outputs": [
    {
     "name": "stdout",
     "output_type": "stream",
     "text": [
      "git version 2.39.5 (Apple Git-154)\n"
     ]
    }
   ],
   "source": [
    "!git --version"
   ]
  },
  {
   "cell_type": "code",
   "execution_count": 7,
   "id": "df70240d-fafc-4b7c-8fb9-5ae64ef7c5dc",
   "metadata": {},
   "outputs": [],
   "source": [
    "!git config --global user.name \"Shuchen Meng\"\n",
    "!git config --global user.email \"sm13533@nyu.edu\""
   ]
  },
  {
   "cell_type": "code",
   "execution_count": 9,
   "id": "28ea5aa7-736c-47c8-a3fe-cd057ea5dabd",
   "metadata": {},
   "outputs": [
    {
     "name": "stdout",
     "output_type": "stream",
     "text": [
      "fatal: destination path 'bootcamp_Shuchen_Meng' already exists and is not an empty directory.\n"
     ]
    }
   ],
   "source": [
    "!git clone https://github.com/mengmeng12/bootcamp_Shuchen_Meng.git"
   ]
  },
  {
   "cell_type": "code",
   "execution_count": 10,
   "id": "79b82ee4-b97f-4680-a4f2-2a4401b79346",
   "metadata": {},
   "outputs": [],
   "source": [
    "!cd bootcamp_Shuchen_Meng"
   ]
  },
  {
   "cell_type": "code",
   "execution_count": 11,
   "id": "a7af487e-d601-4daa-898f-5681459b47c8",
   "metadata": {},
   "outputs": [
    {
     "name": "stdout",
     "output_type": "stream",
     "text": [
      "mkdir: homework: File exists\n",
      "/Users/mengmeng/homework\n",
      "mkdir: homework: No such file or directory\n"
     ]
    },
    {
     "name": "stderr",
     "output_type": "stream",
     "text": [
      "/opt/anaconda3/envs/bootcamp_env/lib/python3.10/site-packages/IPython/core/magics/osm.py:417: UserWarning: This is now an optional IPython functionality, setting dhist requires you to install the `pickleshare` library.\n",
      "  self.shell.db['dhist'] = compress_dhist(dhist)[-100:]\n"
     ]
    }
   ],
   "source": [
    "%mkdir homework\n",
    "%mkdir project\n",
    "%mkdir class_materials\n",
    "%cd homework"
   ]
  },
  {
   "cell_type": "code",
   "execution_count": 14,
   "id": "fb25db60-f73d-410c-b962-f1e310833fd5",
   "metadata": {},
   "outputs": [],
   "source": [
    "%mkdir homework0"
   ]
  },
  {
   "cell_type": "code",
   "execution_count": 15,
   "id": "18b55c6d-2feb-4ce6-b6ea-c9a09d01bc26",
   "metadata": {},
   "outputs": [
    {
     "data": {
      "text/plain": [
       "'/Users/mengmeng/homework'"
      ]
     },
     "execution_count": 15,
     "metadata": {},
     "output_type": "execute_result"
    }
   ],
   "source": [
    "%pwd"
   ]
  },
  {
   "cell_type": "code",
   "execution_count": 17,
   "id": "a16ac831-2f43-44c3-b174-2f866036e24c",
   "metadata": {},
   "outputs": [
    {
     "name": "stdout",
     "output_type": "stream",
     "text": [
      "\u001b[34mhomework0\u001b[m\u001b[m\n"
     ]
    }
   ],
   "source": [
    "!ls"
   ]
  },
  {
   "cell_type": "code",
   "execution_count": 20,
   "id": "2c3d9dfb-b8c2-4f27-9c28-37eebec0d1fa",
   "metadata": {},
   "outputs": [
    {
     "name": "stdout",
     "output_type": "stream",
     "text": [
      "/Users/mengmeng/bootcamp_Shuchen_Meng\n"
     ]
    }
   ],
   "source": [
    "%cd /Users/mengmeng/bootcamp_Shuchen_Meng"
   ]
  },
  {
   "cell_type": "code",
   "execution_count": 22,
   "id": "9a33f071-36f8-4c83-8864-744d798cf272",
   "metadata": {},
   "outputs": [
    {
     "name": "stdout",
     "output_type": "stream",
     "text": [
      "\u001b[34m.\u001b[m\u001b[m/               .DS_Store        \u001b[34mclass_materials\u001b[m\u001b[m/ \u001b[34mproject\u001b[m\u001b[m/\n",
      "\u001b[34m..\u001b[m\u001b[m/              \u001b[34m.git\u001b[m\u001b[m/            \u001b[34mhomework\u001b[m\u001b[m/        README.md\n"
     ]
    }
   ],
   "source": [
    "%ls -a"
   ]
  },
  {
   "cell_type": "code",
   "execution_count": 24,
   "id": "cd25a25e-8b55-48e5-a2eb-c8b20ec6bdec",
   "metadata": {},
   "outputs": [],
   "source": [
    "!touch .gitignore"
   ]
  },
  {
   "cell_type": "code",
   "execution_count": 25,
   "id": "94e43a51-610c-4e93-ad0b-15beb6037d43",
   "metadata": {},
   "outputs": [
    {
     "name": "stdout",
     "output_type": "stream",
     "text": [
      "\u001b[34m.\u001b[m\u001b[m/               \u001b[34m.git\u001b[m\u001b[m/            \u001b[34mhomework\u001b[m\u001b[m/\n",
      "\u001b[34m..\u001b[m\u001b[m/              .gitignore       \u001b[34mproject\u001b[m\u001b[m/\n",
      ".DS_Store        \u001b[34mclass_materials\u001b[m\u001b[m/ README.md\n"
     ]
    }
   ],
   "source": [
    "%ls -a"
   ]
  },
  {
   "cell_type": "code",
   "execution_count": 29,
   "id": "9da53367-b5d6-490e-bcdb-f33d9c3b8ca3",
   "metadata": {},
   "outputs": [],
   "source": [
    "!echo \"__pycache__/\" >> .gitignore\n",
    "!echo \"*.pyc\" >> .gitignore\n",
    "!echo \".env\" >> .gitignore\n",
    "!echo \".ipynb_checkpoints/\" >> .gitignore\n",
    "!echo \"class_materials/\" >> .gitignore"
   ]
  },
  {
   "cell_type": "code",
   "execution_count": null,
   "id": "62b03ffd-1951-46c1-93db-51987a153012",
   "metadata": {},
   "outputs": [],
   "source": []
  },
  {
   "cell_type": "code",
   "execution_count": null,
   "id": "19b80fe5-a72a-49c3-ae17-e345c15c960c",
   "metadata": {},
   "outputs": [],
   "source": []
  }
 ],
 "metadata": {
  "kernelspec": {
   "display_name": "Python (bootcamp_env)",
   "language": "python",
   "name": "bootcamp_env"
  },
  "language_info": {
   "codemirror_mode": {
    "name": "ipython",
    "version": 3
   },
   "file_extension": ".py",
   "mimetype": "text/x-python",
   "name": "python",
   "nbconvert_exporter": "python",
   "pygments_lexer": "ipython3",
   "version": "3.10.18"
  }
 },
 "nbformat": 4,
 "nbformat_minor": 5
}
