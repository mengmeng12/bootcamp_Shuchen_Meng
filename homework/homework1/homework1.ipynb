{
 "cells": [
  {
   "cell_type": "code",
   "execution_count": 3,
   "id": "ebcf367c-bda6-4d25-9d74-8e07cf3f4d45",
   "metadata": {},
   "outputs": [
    {
     "data": {
      "text/plain": [
       "PosixPath('/Users/mengmeng/bootcamp_Shuchen_Meng/project/README.md')"
      ]
     },
     "execution_count": 3,
     "metadata": {},
     "output_type": "execute_result"
    }
   ],
   "source": [
    "import os, textwrap, pathlib\n",
    "\n",
    "REPO_NAME = \"bootcamp_Shuchen_Meng\"  # change as desired\n",
    "FOLDERS = [\"data\", \"src\", \"notebooks\", \"docs\"]\n",
    "base = pathlib.Path.cwd()\n",
    "base.mkdir(exist_ok=True)\n",
    "for f in FOLDERS:\n",
    "    (base / f).mkdir(parents=True, exist_ok=True)\n",
    "\n",
    "README_TEMPLATE = textwrap.dedent(\"\"\"\n",
    "# Project Title\n",
    "ETF Momentum Strategy Evaluation\n",
    "\n",
    "**Stage:** Problem Framing & Scoping (Stage 01)\n",
    "\n",
    "---\n",
    "\n",
    "## Problem Statement\n",
    "Evaluate whether a momentum-based trading strategy applied to ETFs will remain effective in the future.  \n",
    "Explore whether combining multiple ETFs can improve robustness and portfolio performance.\n",
    "\n",
    "---\n",
    "\n",
    "## Stakeholder & User\n",
    "- Indivodual investors\n",
    "- Portfolio managers\n",
    "\n",
    "---\n",
    "\n",
    "## Useful Answer & Decision\n",
    "- forecast & risk bands; \n",
    "- scenario notes; \n",
    "- clear decision trigger; \n",
    "- Portfolio optimization reference (Markowitz model).\n",
    "\n",
    "---\n",
    "\n",
    "## Assumptions & Constraints\n",
    "- stationarity;\n",
    "- liquidity;\n",
    "- transaction costs;\n",
    "- capacity.\n",
    "\n",
    "---\n",
    "\n",
    "## Known Unknowns / Risks\n",
    "- benchmark;\n",
    "- horizon;\n",
    "- evaluation metric;\n",
    "- constraints.\n",
    "\n",
    "---\n",
    "\n",
    "## Lifecycle Mapping\n",
    "- Test momentum hypothesis \n",
    "- Backtest performance \n",
    "- Portfolio improvement \n",
    "\n",
    "---\n",
    "\n",
    "## Repo Plan\n",
    "/data/, /src/, /notebooks/, /docs/ ;\n",
    "\"\"\")\n",
    "\n",
    "readme_path = base / \"README.md\"\n",
    "if not readme_path.exists():\n",
    "    readme_path.write_text(README_TEMPLATE, encoding=\"utf-8\")\n",
    "readme_path.resolve()"
   ]
  },
  {
   "cell_type": "code",
   "execution_count": 4,
   "id": "937598bb-2956-4ee8-bbd7-9fd03cb08d62",
   "metadata": {},
   "outputs": [
    {
     "name": "stdout",
     "output_type": "stream",
     "text": [
      "/Users/mengmeng/bootcamp_Shuchen_Meng/project\n"
     ]
    }
   ],
   "source": [
    " !pwd"
   ]
  },
  {
   "cell_type": "code",
   "execution_count": 8,
   "id": "bd0e9990-f4db-4a23-859e-bfc5910df384",
   "metadata": {},
   "outputs": [
    {
     "name": "stdout",
     "output_type": "stream",
     "text": [
      "/Users/mengmeng/bootcamp_Shuchen_Meng/homework\n"
     ]
    }
   ],
   "source": [
    "%cd ~/bootcamp_Shuchen_Meng/homework"
   ]
  },
  {
   "cell_type": "code",
   "execution_count": 9,
   "id": "a78dbd32-b8fd-407d-8cbf-0096c6a9cb46",
   "metadata": {},
   "outputs": [],
   "source": [
    "!mkdir homework1"
   ]
  },
  {
   "cell_type": "code",
   "execution_count": 10,
   "id": "5d50fe58-2b1a-4688-bdc7-c32c98b2856d",
   "metadata": {},
   "outputs": [
    {
     "name": "stdout",
     "output_type": "stream",
     "text": [
      "\u001b[34mhomework0\u001b[m\u001b[m \u001b[34mhomework1\u001b[m\u001b[m\n"
     ]
    }
   ],
   "source": [
    "!ls"
   ]
  },
  {
   "cell_type": "code",
   "execution_count": null,
   "id": "e93842d8-b5ef-436c-a913-d9745bba3f85",
   "metadata": {},
   "outputs": [],
   "source": []
  }
 ],
 "metadata": {
  "kernelspec": {
   "display_name": "Python (bootcamp_env)",
   "language": "python",
   "name": "bootcamp_env"
  },
  "language_info": {
   "codemirror_mode": {
    "name": "ipython",
    "version": 3
   },
   "file_extension": ".py",
   "mimetype": "text/x-python",
   "name": "python",
   "nbconvert_exporter": "python",
   "pygments_lexer": "ipython3",
   "version": "3.10.18"
  }
 },
 "nbformat": 4,
 "nbformat_minor": 5
}
