{
 "cells": [
  {
   "cell_type": "markdown",
   "id": "b2d5101c-7f67-41a2-a00b-9d424a7f020b",
   "metadata": {},
   "source": [
    "## 0) Setup cell (imports, paths, helpers)"
   ]
  },
  {
   "cell_type": "code",
   "execution_count": 8,
   "id": "643304eb-e9b0-46d3-a999-60c97d0bb2cb",
   "metadata": {},
   "outputs": [],
   "source": [
    "try:\n",
    "    import yfinance as yf  # noqa\n",
    "except ModuleNotFoundError:\n",
    "    !pip install yfinance"
   ]
  },
  {
   "cell_type": "code",
   "execution_count": 9,
   "id": "22593bfc-22ae-43d5-8be5-e1efe641003d",
   "metadata": {},
   "outputs": [],
   "source": [
    "from datetime import datetime, timedelta\n",
    "import pathlib\n",
    "import pandas as pd\n",
    "import numpy as np"
   ]
  },
  {
   "cell_type": "code",
   "execution_count": 10,
   "id": "154a7fe8-988a-444b-a257-2fcc3e617da3",
   "metadata": {},
   "outputs": [
    {
     "data": {
      "text/plain": [
       "PosixPath('/Users/mengmeng/bootcamp_Shuchen_Meng/homework/homework4/data/raw')"
      ]
     },
     "execution_count": 10,
     "metadata": {},
     "output_type": "execute_result"
    }
   ],
   "source": [
    "PROJECT_ROOT = pathlib.Path.cwd().resolve()\n",
    "DATA_RAW = PROJECT_ROOT / \"data\" / \"raw\"\n",
    "DATA_RAW.mkdir(parents=True, exist_ok=True)\n",
    "DATA_RAW"
   ]
  },
  {
   "cell_type": "code",
   "execution_count": 11,
   "id": "0b5fbd66-055e-4c2d-8519-526934d17cc8",
   "metadata": {},
   "outputs": [],
   "source": [
    "def ts_tag():\n",
    "    return datetime.now().strftime(\"%Y%m%d-%H%M\")\n",
    "\n",
    "def save_csv(df: pd.DataFrame, prefix: str, parts: dict) -> pathlib.Path:\n",
    "    \"\"\"Save df to data/raw/ as prefix_k1-v1_k2-v2_<timestamp>.csv\"\"\"\n",
    "    stem = prefix + \"_\" + \"_\".join(f\"{k}-{v}\" for k,v in parts.items())\n",
    "    path = DATA_RAW / f\"{stem}_{ts_tag()}.csv\"\n",
    "    df.to_csv(path, index=False)\n",
    "    return path\n",
    "\n",
    "def validate_df(\n",
    "    df: pd.DataFrame,\n",
    "    required_cols: list[str],\n",
    "    numeric_cols: list[str] | None = None,\n",
    "    date_cols: list[str] | None = None,\n",
    "    min_rows: int = 1,\n",
    "):\n",
    "    # columns present\n",
    "    missing = [c for c in required_cols if c not in df.columns]\n",
    "    assert not missing, f\"Missing required columns: {missing}\"\n",
    "\n",
    "    # coerce types\n",
    "    if numeric_cols:\n",
    "        for c in numeric_cols:\n",
    "            if c in df.columns:\n",
    "                df[c] = pd.to_numeric(df[c], errors=\"coerce\")\n",
    "    if date_cols:\n",
    "        for c in date_cols:\n",
    "            if c in df.columns:\n",
    "                df[c] = pd.to_datetime(df[c], errors=\"coerce\", utc=False)\n",
    "\n",
    "    # NA counts + shape\n",
    "    na_counts = df[required_cols].isna().sum().to_dict()\n",
    "    assert len(df) >= min_rows, f\"Too few rows: {len(df)}\"\n",
    "    return na_counts"
   ]
  },
  {
   "cell_type": "code",
   "execution_count": null,
   "id": "90fc7293-42dc-4851-a04d-5cf72f0cd4e0",
   "metadata": {},
   "outputs": [],
   "source": []
  },
  {
   "cell_type": "code",
   "execution_count": null,
   "id": "6c6e4d0f-97fb-4369-8172-d832fa5c2100",
   "metadata": {},
   "outputs": [],
   "source": []
  },
  {
   "cell_type": "markdown",
   "id": "3da34251-71b8-41d9-ae81-75e16561a862",
   "metadata": {},
   "source": [
    "## 1) Choose ticker & date range"
   ]
  },
  {
   "cell_type": "code",
   "execution_count": 12,
   "id": "06ba0804-0cd4-434a-983d-9658d62e13c0",
   "metadata": {},
   "outputs": [
    {
     "name": "stdout",
     "output_type": "stream",
     "text": [
      "Downloading SPY from 2025-02-23 to 2025-08-22\n"
     ]
    }
   ],
   "source": [
    "USE_TICKER = \"SPY\"   # change to \"BTC-USD\" if you want bitcoin\n",
    "\n",
    "end = datetime.today().date()\n",
    "start = end - timedelta(days=180)   # ~ last 6 months\n",
    "print(f\"Downloading {USE_TICKER} from {start} to {end}\")"
   ]
  },
  {
   "cell_type": "code",
   "execution_count": 43,
   "id": "12825eb7-48d4-4d14-b32b-377ca9fd603c",
   "metadata": {},
   "outputs": [
    {
     "name": "stderr",
     "output_type": "stream",
     "text": [
      "/var/folders/mm/zd5mx6qs3wz9922pdygh0dzc0000gn/T/ipykernel_28848/3678397884.py:2: FutureWarning: YF.download() has changed argument auto_adjust default to True\n",
      "  df = yf.download(USE_TICKER, start=start.isoformat(), end=end.isoformat(),\n"
     ]
    }
   ],
   "source": [
    "# Download daily data\n",
    "df = yf.download(USE_TICKER, start=start.isoformat(), end=end.isoformat(),\n",
    "                 interval=\"1d\", progress=False)"
   ]
  },
  {
   "cell_type": "code",
   "execution_count": 44,
   "id": "4a01001d-7847-4eb5-852f-bbd19782f88e",
   "metadata": {},
   "outputs": [],
   "source": [
    "if df is None or len(df) == 0:\n",
    "    raise RuntimeError(\"No data returned. Try another ticker or wider date range.\")"
   ]
  },
  {
   "cell_type": "code",
   "execution_count": 45,
   "id": "094963e3-d961-4464-9218-a6901b67682a",
   "metadata": {},
   "outputs": [
    {
     "data": {
      "text/html": [
       "<div>\n",
       "<style scoped>\n",
       "    .dataframe tbody tr th:only-of-type {\n",
       "        vertical-align: middle;\n",
       "    }\n",
       "\n",
       "    .dataframe tbody tr th {\n",
       "        vertical-align: top;\n",
       "    }\n",
       "\n",
       "    .dataframe thead tr th {\n",
       "        text-align: left;\n",
       "    }\n",
       "\n",
       "    .dataframe thead tr:last-of-type th {\n",
       "        text-align: right;\n",
       "    }\n",
       "</style>\n",
       "<table border=\"1\" class=\"dataframe\">\n",
       "  <thead>\n",
       "    <tr>\n",
       "      <th>Price</th>\n",
       "      <th>Close</th>\n",
       "      <th>High</th>\n",
       "      <th>Low</th>\n",
       "      <th>Open</th>\n",
       "      <th>Volume</th>\n",
       "    </tr>\n",
       "    <tr>\n",
       "      <th>Ticker</th>\n",
       "      <th>SPY</th>\n",
       "      <th>SPY</th>\n",
       "      <th>SPY</th>\n",
       "      <th>SPY</th>\n",
       "      <th>SPY</th>\n",
       "    </tr>\n",
       "    <tr>\n",
       "      <th>Date</th>\n",
       "      <th></th>\n",
       "      <th></th>\n",
       "      <th></th>\n",
       "      <th></th>\n",
       "      <th></th>\n",
       "    </tr>\n",
       "  </thead>\n",
       "  <tbody>\n",
       "    <tr>\n",
       "      <th>2025-02-24</th>\n",
       "      <td>593.663818</td>\n",
       "      <td>599.449267</td>\n",
       "      <td>592.948062</td>\n",
       "      <td>598.445254</td>\n",
       "      <td>50737200</td>\n",
       "    </tr>\n",
       "    <tr>\n",
       "      <th>2025-02-25</th>\n",
       "      <td>590.711426</td>\n",
       "      <td>594.339777</td>\n",
       "      <td>586.059223</td>\n",
       "      <td>593.604180</td>\n",
       "      <td>58266500</td>\n",
       "    </tr>\n",
       "    <tr>\n",
       "      <th>2025-02-26</th>\n",
       "      <td>591.009644</td>\n",
       "      <td>596.019755</td>\n",
       "      <td>588.345564</td>\n",
       "      <td>592.391404</td>\n",
       "      <td>43321600</td>\n",
       "    </tr>\n",
       "    <tr>\n",
       "      <th>2025-02-27</th>\n",
       "      <td>581.575989</td>\n",
       "      <td>594.469005</td>\n",
       "      <td>581.178400</td>\n",
       "      <td>593.305909</td>\n",
       "      <td>74196700</td>\n",
       "    </tr>\n",
       "    <tr>\n",
       "      <th>2025-02-28</th>\n",
       "      <td>590.651794</td>\n",
       "      <td>591.188566</td>\n",
       "      <td>578.981515</td>\n",
       "      <td>582.082984</td>\n",
       "      <td>88744100</td>\n",
       "    </tr>\n",
       "  </tbody>\n",
       "</table>\n",
       "</div>"
      ],
      "text/plain": [
       "Price            Close        High         Low        Open    Volume\n",
       "Ticker             SPY         SPY         SPY         SPY       SPY\n",
       "Date                                                                \n",
       "2025-02-24  593.663818  599.449267  592.948062  598.445254  50737200\n",
       "2025-02-25  590.711426  594.339777  586.059223  593.604180  58266500\n",
       "2025-02-26  591.009644  596.019755  588.345564  592.391404  43321600\n",
       "2025-02-27  581.575989  594.469005  581.178400  593.305909  74196700\n",
       "2025-02-28  590.651794  591.188566  578.981515  582.082984  88744100"
      ]
     },
     "execution_count": 45,
     "metadata": {},
     "output_type": "execute_result"
    }
   ],
   "source": [
    "df.head()"
   ]
  },
  {
   "cell_type": "code",
   "execution_count": 49,
   "id": "c523bb5c-836f-4418-a750-f9591367acb6",
   "metadata": {},
   "outputs": [],
   "source": [
    "def normalize_yf(df: pd.DataFrame) -> pd.DataFrame:\n",
    "    \"\"\"\n",
    "    Return a tidy DataFrame with:\n",
    "      single-ticker: date, open, high, low, close, adj_close, volume\n",
    "      multi-ticker : date, ticker, open, high, low, close, adj_close, volume\n",
    "    Works for yfinance outputs with either flat or MultiIndex columns.\n",
    "    \"\"\"\n",
    "    if isinstance(df.columns, pd.MultiIndex):\n",
    "        # Multi-ticker case → stack tickers into a 'ticker' column\n",
    "        out = df.stack(level=-1).reset_index()              # Date, ticker, OHLCV...\n",
    "        out = out.rename(columns={\"Date\": \"date\", out.columns[1]: \"ticker\"})\n",
    "    else:\n",
    "        # Single-ticker case → just make date a column\n",
    "        out = df.reset_index().rename(columns={\"Date\": \"date\"})\n",
    "\n",
    "    # standardize column names\n",
    "    out.columns = [str(c).strip().lower().replace(\" \", \"_\") for c in out.columns]\n",
    "    # unify adj close naming\n",
    "    if \"adj_close\" not in out.columns and \"adj_close\" in [c.replace(\" \", \"_\").lower() for c in out.columns]:\n",
    "        pass  # already handled by lower/replace\n",
    "    if \"adj_close\" not in out.columns and \"adj_close\" not in out.columns and \"adj_close\" in out.columns:\n",
    "        pass  # defensive\n",
    "    if \"adj_close\" not in out.columns and \"adj close\" in df.columns:\n",
    "        out = out.rename(columns={\"adj close\": \"adj_close\"})\n",
    "\n",
    "    # keep canonical set if present\n",
    "    keep = [c for c in [\"date\", \"ticker\", \"open\", \"high\", \"low\", \"close\", \"adj_close\", \"volume\"] if c in out.columns]\n",
    "    out = out[keep]\n",
    "    return out"
   ]
  },
  {
   "cell_type": "code",
   "execution_count": 50,
   "id": "5595fae0-d82a-42c1-b125-089382a47aa5",
   "metadata": {},
   "outputs": [
    {
     "name": "stderr",
     "output_type": "stream",
     "text": [
      "/var/folders/mm/zd5mx6qs3wz9922pdygh0dzc0000gn/T/ipykernel_28848/3728674468.py:10: FutureWarning: The previous implementation of stack is deprecated and will be removed in a future version of pandas. See the What's New notes for pandas 2.1.0 for details. Specify future_stack=True to adopt the new implementation and silence this warning.\n",
      "  out = df.stack(level=-1).reset_index()              # Date, ticker, OHLCV...\n"
     ]
    },
    {
     "data": {
      "text/html": [
       "<div>\n",
       "<style scoped>\n",
       "    .dataframe tbody tr th:only-of-type {\n",
       "        vertical-align: middle;\n",
       "    }\n",
       "\n",
       "    .dataframe tbody tr th {\n",
       "        vertical-align: top;\n",
       "    }\n",
       "\n",
       "    .dataframe thead th {\n",
       "        text-align: right;\n",
       "    }\n",
       "</style>\n",
       "<table border=\"1\" class=\"dataframe\">\n",
       "  <thead>\n",
       "    <tr style=\"text-align: right;\">\n",
       "      <th></th>\n",
       "      <th>date</th>\n",
       "      <th>ticker</th>\n",
       "      <th>open</th>\n",
       "      <th>high</th>\n",
       "      <th>low</th>\n",
       "      <th>close</th>\n",
       "      <th>volume</th>\n",
       "    </tr>\n",
       "  </thead>\n",
       "  <tbody>\n",
       "    <tr>\n",
       "      <th>0</th>\n",
       "      <td>2025-02-24</td>\n",
       "      <td>SPY</td>\n",
       "      <td>598.445254</td>\n",
       "      <td>599.449267</td>\n",
       "      <td>592.948062</td>\n",
       "      <td>593.663818</td>\n",
       "      <td>50737200</td>\n",
       "    </tr>\n",
       "    <tr>\n",
       "      <th>1</th>\n",
       "      <td>2025-02-25</td>\n",
       "      <td>SPY</td>\n",
       "      <td>593.604180</td>\n",
       "      <td>594.339777</td>\n",
       "      <td>586.059223</td>\n",
       "      <td>590.711426</td>\n",
       "      <td>58266500</td>\n",
       "    </tr>\n",
       "    <tr>\n",
       "      <th>2</th>\n",
       "      <td>2025-02-26</td>\n",
       "      <td>SPY</td>\n",
       "      <td>592.391404</td>\n",
       "      <td>596.019755</td>\n",
       "      <td>588.345564</td>\n",
       "      <td>591.009644</td>\n",
       "      <td>43321600</td>\n",
       "    </tr>\n",
       "    <tr>\n",
       "      <th>3</th>\n",
       "      <td>2025-02-27</td>\n",
       "      <td>SPY</td>\n",
       "      <td>593.305909</td>\n",
       "      <td>594.469005</td>\n",
       "      <td>581.178400</td>\n",
       "      <td>581.575989</td>\n",
       "      <td>74196700</td>\n",
       "    </tr>\n",
       "    <tr>\n",
       "      <th>4</th>\n",
       "      <td>2025-02-28</td>\n",
       "      <td>SPY</td>\n",
       "      <td>582.082984</td>\n",
       "      <td>591.188566</td>\n",
       "      <td>578.981515</td>\n",
       "      <td>590.651794</td>\n",
       "      <td>88744100</td>\n",
       "    </tr>\n",
       "  </tbody>\n",
       "</table>\n",
       "</div>"
      ],
      "text/plain": [
       "        date ticker        open        high         low       close    volume\n",
       "0 2025-02-24    SPY  598.445254  599.449267  592.948062  593.663818  50737200\n",
       "1 2025-02-25    SPY  593.604180  594.339777  586.059223  590.711426  58266500\n",
       "2 2025-02-26    SPY  592.391404  596.019755  588.345564  591.009644  43321600\n",
       "3 2025-02-27    SPY  593.305909  594.469005  581.178400  581.575989  74196700\n",
       "4 2025-02-28    SPY  582.082984  591.188566  578.981515  590.651794  88744100"
      ]
     },
     "execution_count": 50,
     "metadata": {},
     "output_type": "execute_result"
    }
   ],
   "source": [
    "tidy = normalize_yf(df)\n",
    "tidy.head()"
   ]
  },
  {
   "cell_type": "code",
   "execution_count": 57,
   "id": "51e59d46-0307-4352-b8d3-634d4b8509b3",
   "metadata": {},
   "outputs": [
    {
     "data": {
      "text/html": [
       "<div>\n",
       "<style scoped>\n",
       "    .dataframe tbody tr th:only-of-type {\n",
       "        vertical-align: middle;\n",
       "    }\n",
       "\n",
       "    .dataframe tbody tr th {\n",
       "        vertical-align: top;\n",
       "    }\n",
       "\n",
       "    .dataframe thead th {\n",
       "        text-align: right;\n",
       "    }\n",
       "</style>\n",
       "<table border=\"1\" class=\"dataframe\">\n",
       "  <thead>\n",
       "    <tr style=\"text-align: right;\">\n",
       "      <th></th>\n",
       "      <th>date</th>\n",
       "      <th>open</th>\n",
       "      <th>high</th>\n",
       "      <th>low</th>\n",
       "      <th>close</th>\n",
       "      <th>volume</th>\n",
       "    </tr>\n",
       "  </thead>\n",
       "  <tbody>\n",
       "    <tr>\n",
       "      <th>0</th>\n",
       "      <td>2025-02-24</td>\n",
       "      <td>598.445254</td>\n",
       "      <td>599.449267</td>\n",
       "      <td>592.948062</td>\n",
       "      <td>593.663818</td>\n",
       "      <td>50737200</td>\n",
       "    </tr>\n",
       "    <tr>\n",
       "      <th>1</th>\n",
       "      <td>2025-02-25</td>\n",
       "      <td>593.604180</td>\n",
       "      <td>594.339777</td>\n",
       "      <td>586.059223</td>\n",
       "      <td>590.711426</td>\n",
       "      <td>58266500</td>\n",
       "    </tr>\n",
       "    <tr>\n",
       "      <th>2</th>\n",
       "      <td>2025-02-26</td>\n",
       "      <td>592.391404</td>\n",
       "      <td>596.019755</td>\n",
       "      <td>588.345564</td>\n",
       "      <td>591.009644</td>\n",
       "      <td>43321600</td>\n",
       "    </tr>\n",
       "    <tr>\n",
       "      <th>3</th>\n",
       "      <td>2025-02-27</td>\n",
       "      <td>593.305909</td>\n",
       "      <td>594.469005</td>\n",
       "      <td>581.178400</td>\n",
       "      <td>581.575989</td>\n",
       "      <td>74196700</td>\n",
       "    </tr>\n",
       "    <tr>\n",
       "      <th>4</th>\n",
       "      <td>2025-02-28</td>\n",
       "      <td>582.082984</td>\n",
       "      <td>591.188566</td>\n",
       "      <td>578.981515</td>\n",
       "      <td>590.651794</td>\n",
       "      <td>88744100</td>\n",
       "    </tr>\n",
       "  </tbody>\n",
       "</table>\n",
       "</div>"
      ],
      "text/plain": [
       "        date        open        high         low       close    volume\n",
       "0 2025-02-24  598.445254  599.449267  592.948062  593.663818  50737200\n",
       "1 2025-02-25  593.604180  594.339777  586.059223  590.711426  58266500\n",
       "2 2025-02-26  592.391404  596.019755  588.345564  591.009644  43321600\n",
       "3 2025-02-27  593.305909  594.469005  581.178400  581.575989  74196700\n",
       "4 2025-02-28  582.082984  591.188566  578.981515  590.651794  88744100"
      ]
     },
     "execution_count": 57,
     "metadata": {},
     "output_type": "execute_result"
    }
   ],
   "source": [
    "tidy.columns = [str(c) for c in tidy.columns]\n",
    "# Keep a standard OHLCV set when present\n",
    "keep = [c for c in [\"date\",\"open\",\"high\",\"low\",\"close\",\"adj_close\",\"volume\"] if c in tidy.columns]\n",
    "tidy = tidy[keep].copy()\n",
    "tidy.head()"
   ]
  },
  {
   "cell_type": "code",
   "execution_count": 58,
   "id": "c406af2b-8036-4454-bf22-a13cb153b3d4",
   "metadata": {},
   "outputs": [
    {
     "name": "stdout",
     "output_type": "stream",
     "text": [
      "NA counts: {'date': 0, 'open': 0, 'high': 0, 'low': 0, 'close': 0, 'volume': 0}\n",
      "Saved to: /Users/mengmeng/bootcamp_Shuchen_Meng/homework/homework4/data/raw/api_SRC-yfinance_TICKER-SPY_20250822-0124.csv\n"
     ]
    }
   ],
   "source": [
    "required = [c for c in [\"date\",\"open\",\"high\",\"low\",\"close\",\"volume\"] if c in tidy.columns]\n",
    "na_info = validate_df(\n",
    "    tidy,\n",
    "    required_cols=required,\n",
    "    numeric_cols=[c for c in [\"open\",\"high\",\"low\",\"close\",\"adj_close\",\"volume\"] if c in tidy.columns],\n",
    "    date_cols=[\"date\"],\n",
    "    min_rows=10,\n",
    ")\n",
    "print(\"NA counts:\", na_info)\n",
    "\n",
    "out_path = save_csv(df, prefix=\"api\", parts={\"SRC\":\"yfinance\",\"TICKER\":USE_TICKER.replace('-','')})\n",
    "print(\"Saved to:\", out_path)"
   ]
  },
  {
   "cell_type": "code",
   "execution_count": 60,
   "id": "46a76799-6739-4638-a66e-d97b086066eb",
   "metadata": {},
   "outputs": [
    {
     "data": {
      "image/png": "[encoded data removed]",
      "text/plain": [
       "<Figure size 640x480 with 1 Axes>"
      ]
     },
     "metadata": {},
     "output_type": "display_data"
    }
   ],
   "source": [
    "import matplotlib.pyplot as plt\n",
    "\n",
    "tidy.plot(x=\"date\", y=\"close\", title=f\"{USE_TICKER} close (last ~6 months)\")\n",
    "plt.show()"
   ]
  },
  {
   "cell_type": "code",
   "execution_count": 61,
   "id": "bb703adf-eafa-44dd-9fc2-a228f54b39f4",
   "metadata": {},
   "outputs": [],
   "source": [
    "!git add ."
   ]
  },
  {
   "cell_type": "code",
   "execution_count": 62,
   "id": "bbffbe68-60ce-4ac9-a9ac-e93d51b00738",
   "metadata": {},
   "outputs": [
    {
     "name": "stdout",
     "output_type": "stream",
     "text": [
      "[main db54184] Homewor4:Dat Acquisition and Ingestion\n",
      " 2 files changed, 801 insertions(+)\n",
      " create mode 100644 homework/homework4/data/raw/api_SRC-yfinance_TICKER-SPY_20250822-0124.csv\n",
      " create mode 100644 homework/homework4/homework4.ipynb\n"
     ]
    }
   ],
   "source": [
    "!git commit -m \"Homewor4:Data Acquisition and Ingestion\""
   ]
  },
  {
   "cell_type": "code",
   "execution_count": 63,
   "id": "7f71bc39-6e82-4299-8070-b6499cf28b2b",
   "metadata": {},
   "outputs": [
    {
     "name": "stdout",
     "output_type": "stream",
     "text": [
      "Enumerating objects: 10, done.\n",
      "Counting objects: 100% (10/10), done.\n",
      "Delta compression using up to 10 threads\n",
      "Compressing objects: 100% (7/7), done.\n",
      "Writing objects: 100% (8/8), 6.17 KiB | 6.17 MiB/s, done.\n",
      "Total 8 (delta 2), reused 0 (delta 0), pack-reused 0\n",
      "remote: Resolving deltas: 100% (2/2), completed with 2 local objects.\u001b[K\n",
      "To github.com:mengmeng12/bootcamp_Shuchen_Meng.git\n",
      "   1bc7aff..db54184  main -> main\n"
     ]
    }
   ],
   "source": [
    "!git push"
   ]
  },
  {
   "cell_type": "code",
   "execution_count": null,
   "id": "c13478f5-7cf6-4f79-baa3-efed67baf2be",
   "metadata": {},
   "outputs": [],
   "source": []
  }
 ],
 "metadata": {
  "kernelspec": {
   "display_name": "Python (bootcamp_env)",
   "language": "python",
   "name": "bootcamp_env"
  },
  "language_info": {
   "codemirror_mode": {
    "name": "ipython",
    "version": 3
   },
   "file_extension": ".py",
   "mimetype": "text/x-python",
   "name": "python",
   "nbconvert_exporter": "python",
   "pygments_lexer": "ipython3",
   "version": "3.10.18"
  }
 },
 "nbformat": 4,
 "nbformat_minor": 5
}
