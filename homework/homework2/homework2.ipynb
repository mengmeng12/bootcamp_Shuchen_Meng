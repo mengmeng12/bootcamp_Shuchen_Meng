{
 "cells": [
  {
   "cell_type": "markdown",
   "id": "88ae7956-0e97-41c4-851b-351ac760be56",
   "metadata": {},
   "source": [
    "## 1. Verify Interpreter"
   ]
  },
  {
   "cell_type": "markdown",
   "id": "e3f54482-57fd-4f0b-b601-c98aa5c1280b",
   "metadata": {},
   "source": [
    "### 1. Environment Creation\n",
    "We created a clean Python environment for this Boot Camp project:\n",
    "\n",
    "```bash\n",
    "conda create -n boot_camp_env python=3.11 -y\n",
    "conda activate boot_camp_env"
   ]
  },
  {
   "cell_type": "markdown",
   "id": "5e41a268-7a23-479d-9ff2-078589087569",
   "metadata": {},
   "source": [
    "- Environment name:`boot_camp_env`\n",
    "- Python version: 3.11"
   ]
  },
  {
   "cell_type": "code",
   "execution_count": 1,
   "id": "67fb0c71-240b-46ab-a276-a9513a81df24",
   "metadata": {},
   "outputs": [
    {
     "name": "stdout",
     "output_type": "stream",
     "text": [
      "Python version: 3.10.18 (main, Jun  5 2025, 08:37:47) [Clang 14.0.6 ]\n",
      "Interpreter path: /opt/anaconda3/envs/bootcamp_env/bin/python\n"
     ]
    }
   ],
   "source": [
    "import sys, os\n",
    "print(\"Python version:\", sys.version)\n",
    "print(\"Interpreter path:\", sys.executable)"
   ]
  },
  {
   "cell_type": "markdown",
   "id": "b8ff488f-197d-464c-a785-229621add6e4",
   "metadata": {},
   "source": [
    "## 2. Imports & Installation Check"
   ]
  },
  {
   "cell_type": "code",
   "execution_count": 4,
   "id": "2a8dba2b-b03d-4d88-acb7-279a955254fd",
   "metadata": {},
   "outputs": [
    {
     "name": "stdout",
     "output_type": "stream",
     "text": [
      "Collecting numpy\n",
      "  Using cached numpy-2.2.6-cp310-cp310-macosx_14_0_arm64.whl.metadata (62 kB)\n",
      "Collecting python-dotenv\n",
      "  Using cached python_dotenv-1.1.1-py3-none-any.whl.metadata (24 kB)\n",
      "Using cached numpy-2.2.6-cp310-cp310-macosx_14_0_arm64.whl (5.3 MB)\n",
      "Using cached python_dotenv-1.1.1-py3-none-any.whl (20 kB)\n",
      "Installing collected packages: python-dotenv, numpy\n",
      "\u001b[2K   \u001b[90m━━━━━━━━━━━━━━━━━━━━━━━━━━━━━━━━━━━━━━━━\u001b[0m \u001b[32m2/2\u001b[0m [numpy]32m1/2\u001b[0m [numpy]\n",
      "\u001b[1A\u001b[2KSuccessfully installed numpy-2.2.6 python-dotenv-1.1.1\n"
     ]
    }
   ],
   "source": [
    "!pip install numpy python-dotenv"
   ]
  },
  {
   "cell_type": "code",
   "execution_count": 5,
   "id": "deebe7b1-ec6b-4229-b226-7e1b9d98c69f",
   "metadata": {},
   "outputs": [
    {
     "name": "stdout",
     "output_type": "stream",
     "text": [
      "Imports OK\n",
      "Numpy version: 2.2.6\n",
      "dotenv loaded OK\n"
     ]
    }
   ],
   "source": [
    "try:\n",
    "    import numpy as np\n",
    "    from dotenv import load_dotenv\n",
    "    print(\"Imports OK\")\n",
    "    print(\"Numpy version:\", np.__version__)\n",
    "    print(\"dotenv loaded OK\")\n",
    "except Exception as e:\n",
    "    print(\"Import error:\", e)\n",
    "    raise"
   ]
  },
  {
   "cell_type": "markdown",
   "id": "fab7675a-9593-47ce-af90-8c89a911554a",
   "metadata": {},
   "source": [
    "## 3. Load `.env`"
   ]
  },
  {
   "cell_type": "code",
   "execution_count": 7,
   "id": "19e3f3dc-7198-4bbd-95bf-f22e5c37b7c8",
   "metadata": {},
   "outputs": [
    {
     "name": "stdout",
     "output_type": "stream",
     "text": [
      ".env loaded (if present)\n"
     ]
    }
   ],
   "source": [
    "from pathlib import Path\n",
    "load_dotenv()  # looks for a .env file in the current and parent directories\n",
    "print(\".env loaded (if present)\")"
   ]
  },
  {
   "cell_type": "markdown",
   "id": "08684fd0-c457-4820-bf5d-1d5341f97354",
   "metadata": {},
   "source": [
    "## 4. Project Config Helper"
   ]
  },
  {
   "cell_type": "markdown",
   "id": "5d5c3a0a-27de-45d4-8d65-fef5195da96e",
   "metadata": {},
   "source": [
    "### We use a .env file to store sensitive or environment-specific settings such as:\n",
    "- API keys (e.g., API_KEY=abc123)\n",
    "- Local paths (e.g., DATA_DIR=./data)\n",
    "### Benefits:\n",
    "- `.env` is ignored by Git (.gitignore), so secrets are not pushed to GitHub.\n",
    "- Each collaborator can keep their own values without overwriting others’.\n",
    "- Keeps notebooks and scripts clean — we only call `load_dotenv()` once, then access variables with `os.getenv(\"API_KEY\")`."
   ]
  },
  {
   "cell_type": "code",
   "execution_count": 11,
   "id": "aecb6933-52e9-4a4a-85b3-ae63430257bb",
   "metadata": {},
   "outputs": [
    {
     "name": "stdout",
     "output_type": "stream",
     "text": [
      "PROJECT_ROOT: /Users/mengmeng/bootcamp_Shuchen_Meng/project\n",
      "DATA_DIR: /Users/mengmeng/bootcamp_Shuchen_Meng/project/data\n"
     ]
    }
   ],
   "source": [
    "from typing import Optional\n",
    "\n",
    "def get_key(name: str, default: Optional[str] = None) -> Optional[str]:\n",
    "    return os.getenv(name, default)\n",
    "\n",
    "def get_project_root():\n",
    "    \"\"\"\n",
    "    Always return the root of your Boot Camp repo, \n",
    "    no matter where you launched Jupyter.\n",
    "    \"\"\"\n",
    "    home = Path.home()\n",
    "    root = home / \"bootcamp_Shuchen_Meng/project\"\n",
    "    return root\n",
    "\n",
    "PROJECT_ROOT = get_project_root()\n",
    "DATA_DIR = PROJECT_ROOT / \"data\"\n",
    "\n",
    "print(\"PROJECT_ROOT:\", PROJECT_ROOT)\n",
    "print(\"DATA_DIR:\", DATA_DIR)"
   ]
  },
  {
   "cell_type": "code",
   "execution_count": 16,
   "id": "3dfc5aa1-181a-4286-ba95-929f0f5bc0e7",
   "metadata": {},
   "outputs": [
    {
     "name": "stdout",
     "output_type": "stream",
     "text": [
      "/Users/mengmeng/bootcamp_Shuchen_Meng/project\n"
     ]
    },
    {
     "name": "stderr",
     "output_type": "stream",
     "text": [
      "/opt/anaconda3/envs/bootcamp_env/lib/python3.10/site-packages/IPython/core/magics/osm.py:417: UserWarning: This is now an optional IPython functionality, setting dhist requires you to install the `pickleshare` library.\n",
      "  self.shell.db['dhist'] = compress_dhist(dhist)[-100:]\n"
     ]
    }
   ],
   "source": [
    "cd /Users/mengmeng/bootcamp_Shuchen_Meng/project"
   ]
  },
  {
   "cell_type": "code",
   "execution_count": 17,
   "id": "0e234988-2a50-40fe-8308-e6082d84c52d",
   "metadata": {},
   "outputs": [],
   "source": [
    "!touch src/config.py"
   ]
  },
  {
   "cell_type": "code",
   "execution_count": 18,
   "id": "b07bdbd2-2737-43e7-89c5-7b718f7c891b",
   "metadata": {},
   "outputs": [],
   "source": [
    "import sys\n",
    "sys.path.append(\"src\")"
   ]
  },
  {
   "cell_type": "code",
   "execution_count": 24,
   "id": "a61db8e5-5288-418f-a45f-48ab221bd7ec",
   "metadata": {},
   "outputs": [
    {
     "data": {
      "text/plain": [
       "PosixPath('/Users/mengmeng/bootcamp_Shuchen_Meng/project/.env')"
      ]
     },
     "execution_count": 24,
     "metadata": {},
     "output_type": "execute_result"
    }
   ],
   "source": [
    "import pathlib\n",
    "env_path = pathlib.Path.cwd() / \".env\"\n",
    "env_path "
   ]
  },
  {
   "cell_type": "code",
   "execution_count": 25,
   "id": "209c35de-a07b-4aa8-86be-57b6237fe22b",
   "metadata": {},
   "outputs": [
    {
     "name": "stdout",
     "output_type": "stream",
     "text": [
      ".env created at: /Users/mengmeng/bootcamp_Shuchen_Meng/project/.env\n"
     ]
    }
   ],
   "source": [
    "env_path.write_text(\"API_KEY=dummy_key_123\\nDATA_DIR=./data\\n\")\n",
    "print(f\".env created at: {env_path.resolve()}\")"
   ]
  },
  {
   "cell_type": "code",
   "execution_count": 26,
   "id": "859a3c2b-9eec-4570-87ce-330f541abae4",
   "metadata": {},
   "outputs": [],
   "source": [
    "from config import load_env, get_key"
   ]
  },
  {
   "cell_type": "code",
   "execution_count": 27,
   "id": "846e3fd8-6e5e-43df-a094-fa13480b03e5",
   "metadata": {},
   "outputs": [],
   "source": [
    "load_env()"
   ]
  },
  {
   "cell_type": "code",
   "execution_count": 28,
   "id": "9d789977-b07d-4daf-8429-8dd332bee2b6",
   "metadata": {},
   "outputs": [
    {
     "name": "stdout",
     "output_type": "stream",
     "text": [
      "API_KEY = dummy_key_123\n"
     ]
    }
   ],
   "source": [
    "print(\"API_KEY =\", get_key(\"API_KEY\"))"
   ]
  },
  {
   "cell_type": "markdown",
   "id": "469ad04e-277d-40b2-8b9e-091f4511dc7c",
   "metadata": {},
   "source": [
    "## 5. Check for API_KEY and DATA_DIR"
   ]
  },
  {
   "cell_type": "code",
   "execution_count": 12,
   "id": "8226c10d-7aee-4f88-8752-bf7dff381b85",
   "metadata": {},
   "outputs": [
    {
     "name": "stdout",
     "output_type": "stream",
     "text": [
      "API_KEY present: False\n",
      "DATA_DIR from env: /Users/mengmeng/bootcamp_Shuchen_Meng/project/data\n",
      "Ensured data directory exists.\n"
     ]
    }
   ],
   "source": [
    "api_key_present = get_key(\"API_KEY\") is not None\n",
    "data_dir_env = get_key(\"DATA_DIR\", str(DATA_DIR))\n",
    "print(\"API_KEY present:\", api_key_present)\n",
    "print(\"DATA_DIR from env:\", data_dir_env)\n",
    "\n",
    "# Ensure data directory exists (non-destructive)\n",
    "Path(data_dir_env).mkdir(parents=True, exist_ok=True)\n",
    "print(\"Ensured data directory exists.\")"
   ]
  },
  {
   "cell_type": "markdown",
   "id": "c1461dba-f0b6-4fcc-8a0d-ab239a7a443d",
   "metadata": {},
   "source": [
    "## 6. NumPy Mini-Demo"
   ]
  },
  {
   "cell_type": "markdown",
   "id": "7f977782-6c04-456e-8886-0759123315a6",
   "metadata": {},
   "source": [
    "### If the array prints and `.mean()` works → NumPy is working."
   ]
  },
  {
   "cell_type": "code",
   "execution_count": 14,
   "id": "4012123b-0565-450c-87d2-57d019cda4d1",
   "metadata": {},
   "outputs": [
    {
     "name": "stdout",
     "output_type": "stream",
     "text": [
      "Array: [1 2 3 4 5]\n",
      "Mean: 3.0\n",
      "Vectorized * 10: [10 20 30 40 50]\n"
     ]
    }
   ],
   "source": [
    "arr = np.array([1, 2, 3, 4, 5])\n",
    "print(\"Array:\", arr)\n",
    "print(\"Mean:\", arr.mean())\n",
    "print(\"Vectorized * 10:\", arr * 10)"
   ]
  },
  {
   "cell_type": "code",
   "execution_count": 29,
   "id": "8746a258-5a98-4325-9901-0e1e5e3e636b",
   "metadata": {},
   "outputs": [
    {
     "name": "stdout",
     "output_type": "stream",
     "text": [
      "/Users/mengmeng/bootcamp_Shuchen_Meng/homework\n"
     ]
    },
    {
     "name": "stderr",
     "output_type": "stream",
     "text": [
      "/opt/anaconda3/envs/bootcamp_env/lib/python3.10/site-packages/IPython/core/magics/osm.py:393: UserWarning: This is now an optional IPython functionality, using bookmarks requires you to install the `pickleshare` library.\n",
      "  bkms = self.shell.db.get('bookmarks', {})\n"
     ]
    }
   ],
   "source": [
    "%cd ~/bootcamp_Shuchen_Meng/homework"
   ]
  },
  {
   "cell_type": "code",
   "execution_count": 30,
   "id": "497dd97d-b2e4-40df-a823-cc155032ebde",
   "metadata": {},
   "outputs": [],
   "source": [
    "!mkdir homework2"
   ]
  },
  {
   "cell_type": "code",
   "execution_count": 31,
   "id": "d5737dbf-9042-407d-9d90-585ebb1f18fb",
   "metadata": {},
   "outputs": [
    {
     "name": "stdout",
     "output_type": "stream",
     "text": [
      "\u001b[34mhomework0\u001b[m\u001b[m \u001b[34mhomework1\u001b[m\u001b[m \u001b[34mhomework2\u001b[m\u001b[m\n"
     ]
    }
   ],
   "source": [
    "!ls"
   ]
  },
  {
   "cell_type": "code",
   "execution_count": null,
   "id": "c9863172-206e-465f-84d1-4583d7d6ff87",
   "metadata": {},
   "outputs": [],
   "source": [
    "mv /Users/mengmeng/homework2.ipynb /Users/mengmeng/bootcamp_Shuchen_Meng/homework/homework2/"
   ]
  }
 ],
 "metadata": {
  "kernelspec": {
   "display_name": "Python (bootcamp_env)",
   "language": "python",
   "name": "bootcamp_env"
  },
  "language_info": {
   "codemirror_mode": {
    "name": "ipython",
    "version": 3
   },
   "file_extension": ".py",
   "mimetype": "text/x-python",
   "name": "python",
   "nbconvert_exporter": "python",
   "pygments_lexer": "ipython3",
   "version": "3.10.18"
  }
 },
 "nbformat": 4,
 "nbformat_minor": 5
}
